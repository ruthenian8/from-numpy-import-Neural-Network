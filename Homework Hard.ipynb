{
  "nbformat": 4,
  "nbformat_minor": 0,
  "metadata": {
    "kernelspec": {
      "display_name": "Python 3",
      "language": "python",
      "name": "python3"
    },
    "language_info": {
      "codemirror_mode": {
        "name": "ipython",
        "version": 3
      },
      "file_extension": ".py",
      "mimetype": "text/x-python",
      "name": "python",
      "nbconvert_exporter": "python",
      "pygments_lexer": "ipython3",
      "version": "3.8.8"
    },
    "colab": {
      "name": "Homework Hard.ipynb",
      "provenance": []
    }
  },
  "cells": [
    {
      "cell_type": "code",
      "metadata": {
        "colab": {
          "base_uri": "https://localhost:8080/"
        },
        "id": "iSOQu8mKrUCU",
        "outputId": "4135a78d-f7b6-4770-efdb-c2dc641d9833"
      },
      "source": [
        "!git clone https://github.com/ruthenian8/from-numpy-import-Neural-Network.git ./libs;"
      ],
      "execution_count": 31,
      "outputs": [
        {
          "output_type": "stream",
          "name": "stdout",
          "text": [
            "fatal: destination path './libs' already exists and is not an empty directory.\n"
          ]
        }
      ]
    },
    {
      "cell_type": "code",
      "metadata": {
        "id": "kHQR2KmNs0QV"
      },
      "source": [
        "!cp -r libs/our_library ."
      ],
      "execution_count": 32,
      "outputs": []
    },
    {
      "cell_type": "code",
      "metadata": {
        "colab": {
          "base_uri": "https://localhost:8080/"
        },
        "id": "vyDWnG7-q9Of",
        "outputId": "739137b6-65fb-4380-e948-08cd36c9eabb"
      },
      "source": [
        "!pip install -r libs/requirements.txt"
      ],
      "execution_count": 33,
      "outputs": [
        {
          "output_type": "stream",
          "name": "stdout",
          "text": [
            "Requirement already satisfied: torch==1.9.1 in /usr/local/lib/python3.7/dist-packages (from -r libs/requirements.txt (line 1)) (1.9.1)\n",
            "Requirement already satisfied: torchvision==0.10.1 in /usr/local/lib/python3.7/dist-packages (from -r libs/requirements.txt (line 2)) (0.10.1)\n",
            "Requirement already satisfied: scikit-learn==0.24.1 in /usr/local/lib/python3.7/dist-packages (from -r libs/requirements.txt (line 3)) (0.24.1)\n",
            "Requirement already satisfied: numpy==1.20.1 in /usr/local/lib/python3.7/dist-packages (from -r libs/requirements.txt (line 4)) (1.20.1)\n",
            "Requirement already satisfied: matplotlib==3.3.4 in /usr/local/lib/python3.7/dist-packages (from -r libs/requirements.txt (line 5)) (3.3.4)\n",
            "Requirement already satisfied: tqdm==4.59.0 in /usr/local/lib/python3.7/dist-packages (from -r libs/requirements.txt (line 6)) (4.59.0)\n",
            "Requirement already satisfied: typing-extensions in /usr/local/lib/python3.7/dist-packages (from torch==1.9.1->-r libs/requirements.txt (line 1)) (3.7.4.3)\n",
            "Requirement already satisfied: pillow>=5.3.0 in /usr/local/lib/python3.7/dist-packages (from torchvision==0.10.1->-r libs/requirements.txt (line 2)) (7.1.2)\n",
            "Requirement already satisfied: threadpoolctl>=2.0.0 in /usr/local/lib/python3.7/dist-packages (from scikit-learn==0.24.1->-r libs/requirements.txt (line 3)) (3.0.0)\n",
            "Requirement already satisfied: scipy>=0.19.1 in /usr/local/lib/python3.7/dist-packages (from scikit-learn==0.24.1->-r libs/requirements.txt (line 3)) (1.4.1)\n",
            "Requirement already satisfied: joblib>=0.11 in /usr/local/lib/python3.7/dist-packages (from scikit-learn==0.24.1->-r libs/requirements.txt (line 3)) (1.0.1)\n",
            "Requirement already satisfied: cycler>=0.10 in /usr/local/lib/python3.7/dist-packages (from matplotlib==3.3.4->-r libs/requirements.txt (line 5)) (0.10.0)\n",
            "Requirement already satisfied: pyparsing!=2.0.4,!=2.1.2,!=2.1.6,>=2.0.3 in /usr/local/lib/python3.7/dist-packages (from matplotlib==3.3.4->-r libs/requirements.txt (line 5)) (2.4.7)\n",
            "Requirement already satisfied: kiwisolver>=1.0.1 in /usr/local/lib/python3.7/dist-packages (from matplotlib==3.3.4->-r libs/requirements.txt (line 5)) (1.3.2)\n",
            "Requirement already satisfied: python-dateutil>=2.1 in /usr/local/lib/python3.7/dist-packages (from matplotlib==3.3.4->-r libs/requirements.txt (line 5)) (2.8.2)\n",
            "Requirement already satisfied: six in /usr/local/lib/python3.7/dist-packages (from cycler>=0.10->matplotlib==3.3.4->-r libs/requirements.txt (line 5)) (1.15.0)\n"
          ]
        }
      ]
    },
    {
      "cell_type": "code",
      "metadata": {
        "id": "XOKVcKx1q4O_"
      },
      "source": [
        "import numpy as np\n",
        "\n",
        "from sklearn.metrics import classification_report\n",
        "\n",
        "import torch\n",
        "from torch.utils.data import DataLoader\n",
        "from torchvision.datasets import MNIST\n",
        "from torchvision import transforms\n",
        "\n",
        "import matplotlib.pyplot as plt\n",
        "\n",
        "from tqdm import tqdm\n",
        "\n",
        "from sklearn.metrics import accuracy_score\n",
        "\n",
        "import time"
      ],
      "execution_count": 34,
      "outputs": []
    },
    {
      "cell_type": "markdown",
      "metadata": {
        "id": "CJvalEQ5q4PC"
      },
      "source": [
        "# Домашка №1\n",
        "# Усложненная\n",
        "### Эта домашка нужна для лучшего понимания, но она будет сложнее из-за использования классов и, возможно, пока непривычной форме с классами.\n",
        "Абстракции в этой домашке будут очень полезны для понимания того, что происходит в торче. Эта домашка прокачает вас гораздо сильнее, но и выполнить ее будет труднее. Вам нужно будет описать несколько слоев: `Linear`, `ReLU`, `BCELoss`.  Реализация `Sigmoid` уже есть в `our_library.layers`. Реализовав слои выше вы сможете сделать n-слойную нейронную сеть с любым количеством слоев. Это получается за счет того, что вы описали всю необходимую логику:\n",
        "- Как нужно обработать входные данные и передать их дальше;\n",
        "- Принять градиент с последующего слоя, сделать `backward` для текущего слоя и передать градиент предыдущему слою;\n",
        "- Как обновить веса, если в слоев есть обучаемые веса.\n",
        "\n",
        "Присылайте свои недоделанные сложные домашки, пусть они не пойдут совсем в стол. Я или ассистенты посмотрят, мы обсудим и доделаем.  \n",
        "Поверьте, эта домашка стоит того, чтобы ее сделать!"
      ]
    },
    {
      "cell_type": "markdown",
      "metadata": {
        "id": "nU2_ZevGq4PF"
      },
      "source": [
        "# Датасет\n",
        "Мы его просто загрузим и здесь пока будет какая-то торчовая магия, которую мы разберем на следующем занятии"
      ]
    },
    {
      "cell_type": "markdown",
      "metadata": {
        "id": "oV17Vt4cq4PG"
      },
      "source": [
        "### Некоторые магические трансформации, о которых пока не стоит заморачиваться\n",
        "1. Перевод картинки в тензор\n",
        "1. Нормализация картинки"
      ]
    },
    {
      "cell_type": "code",
      "metadata": {
        "id": "97B9YtSeq4PH"
      },
      "source": [
        "transform = transforms.Compose([\n",
        "    transforms.ToTensor(),\n",
        "    transforms.Normalize((0.1307,), (0.3081,))\n",
        "])"
      ],
      "execution_count": 35,
      "outputs": []
    },
    {
      "cell_type": "markdown",
      "metadata": {
        "id": "7uQtJi5Mq4PI"
      },
      "source": [
        "## Загружаем датасет\n",
        "Конкретно эта часть кода понадобится нам один раз за курс и будет только в этой домашке"
      ]
    },
    {
      "cell_type": "code",
      "metadata": {
        "id": "eBfMavU8q4PJ"
      },
      "source": [
        "train_dataset = MNIST('.', train=True, download=True, transform=transform)\n",
        "test_dataset = MNIST('.', train=False, transform=transform)"
      ],
      "execution_count": 36,
      "outputs": []
    },
    {
      "cell_type": "markdown",
      "metadata": {
        "id": "vLyKTDJJq4PL"
      },
      "source": [
        "## Переводим его в два класса\n",
        "Это нужно для упрощения задачи до бинарной классификации. В этой домашке мы будем отличать две цифры: 1 и 7."
      ]
    },
    {
      "cell_type": "code",
      "metadata": {
        "id": "sqC9kxM1q4PM"
      },
      "source": [
        "train_dataset.data = train_dataset.data[(train_dataset.targets == 3) | (train_dataset.targets == 7)]\n",
        "train_dataset.targets = train_dataset.targets[(train_dataset.targets == 3) | (train_dataset.targets == 7)]\n",
        "\n",
        "test_dataset.data = test_dataset.data[(test_dataset.targets == 3) | (test_dataset.targets == 7)]\n",
        "test_dataset.targets = test_dataset.targets[(test_dataset.targets == 3) | (test_dataset.targets == 7)]\n",
        "\n",
        "train_dataset.targets = (train_dataset.targets == 7).long()\n",
        "test_dataset.targets = (test_dataset.targets == 7).long()"
      ],
      "execution_count": 37,
      "outputs": []
    },
    {
      "cell_type": "markdown",
      "metadata": {
        "id": "vejI6zzoq4PN"
      },
      "source": [
        "## Оборачиваем в итератор данных\n",
        "Далее в курсе мы поговорим о том, что это такое более подробно, а дальше в этой тетрадке будет несколько полезных деталей.  \n",
        "Пока что будет достаточно понимать, что мы обернули наши данные в некоторую абстракцию, итерация по которой дает нам батчи данных из нашего датасета.  "
      ]
    },
    {
      "cell_type": "code",
      "metadata": {
        "id": "yBYFi9h6q4PO"
      },
      "source": [
        "train_loader = DataLoader(train_dataset, batch_size=128, shuffle=True)\n",
        "test_loader = DataLoader(test_dataset, batch_size=128, shuffle=False)"
      ],
      "execution_count": 38,
      "outputs": []
    },
    {
      "cell_type": "markdown",
      "metadata": {
        "id": "_iB8Rl4fq4PP"
      },
      "source": [
        "## Порисуем данные\n",
        "\n",
        "- классу 0 соответствует цифра 3\n",
        "- классу 1 соответствует цифра 7  \n",
        "\n",
        "Выбрал эти цифры, потому что на них хуже всего метрики"
      ]
    },
    {
      "cell_type": "code",
      "metadata": {
        "colab": {
          "base_uri": "https://localhost:8080/",
          "height": 420
        },
        "id": "JHultUf8q4PP",
        "outputId": "cdcd45ab-c013-4e2e-ab6e-4260b30e8496"
      },
      "source": [
        "X, y = next(iter(train_loader))\n",
        "X = X.numpy()\n",
        "y = y.numpy()\n",
        "\n",
        "plt.figure(figsize=(6, 7))\n",
        "for i in range(25):\n",
        "    plt.subplot(5, 5, i+1)\n",
        "    plt.imshow(X[i].reshape(28, 28), cmap=plt.cm.Greys_r)\n",
        "    plt.title(y[i])\n",
        "    plt.axis('off')"
      ],
      "execution_count": 39,
      "outputs": [
        {
          "output_type": "display_data",
          "data": {
            "image/png": "[encoded data removed]",
            "text/plain": [
              "<Figure size 432x504 with 25 Axes>"
            ]
          },
          "metadata": {
            "needs_background": "light"
          }
        }
      ]
    },
    {
      "cell_type": "markdown",
      "metadata": {
        "id": "iPY3gtWdq4PQ"
      },
      "source": [
        "# Итерация по датасету\n",
        "- x - батч с данными\n",
        "- y - батч с таргетами к этим данным"
      ]
    },
    {
      "cell_type": "code",
      "metadata": {
        "id": "lNjg2ntKq4PQ"
      },
      "source": [
        "for x, y in train_loader:\n",
        "    break"
      ],
      "execution_count": 40,
      "outputs": []
    },
    {
      "cell_type": "markdown",
      "metadata": {
        "id": "p6pY3-MUq4PQ"
      },
      "source": [
        "### train_loader это итератор, при проходе по которому будут выдаваться батчи данных"
      ]
    },
    {
      "cell_type": "markdown",
      "metadata": {
        "id": "49syZVM0q4PR"
      },
      "source": [
        "## Размерность x\n",
        "- 128 - размер батча\n",
        "- 1 - количество каналов, у нас чернобелые картинки, поэтому канал 1\n",
        "- 28 - количество пикселей в длину\n",
        "- 28 - количество пикселей в ширину"
      ]
    },
    {
      "cell_type": "code",
      "metadata": {
        "colab": {
          "base_uri": "https://localhost:8080/"
        },
        "id": "EsrEMB7Aq4PR",
        "outputId": "b683319c-f7d1-4824-f490-2c46c4101bc9"
      },
      "source": [
        "x.shape"
      ],
      "execution_count": 41,
      "outputs": [
        {
          "output_type": "execute_result",
          "data": {
            "text/plain": [
              "torch.Size([128, 1, 28, 28])"
            ]
          },
          "metadata": {},
          "execution_count": 41
        }
      ]
    },
    {
      "cell_type": "code",
      "metadata": {
        "colab": {
          "base_uri": "https://localhost:8080/"
        },
        "id": "68HMd8zbq4PR",
        "outputId": "88a6a62e-46c8-4092-da95-a836d3ee9b2a"
      },
      "source": [
        "x"
      ],
      "execution_count": 42,
      "outputs": [
        {
          "output_type": "execute_result",
          "data": {
            "text/plain": [
              "tensor([[[[-0.4242, -0.4242, -0.4242,  ..., -0.4242, -0.4242, -0.4242],\n",
              "          [-0.4242, -0.4242, -0.4242,  ..., -0.4242, -0.4242, -0.4242],\n",
              "          [-0.4242, -0.4242, -0.4242,  ..., -0.4242, -0.4242, -0.4242],\n",
              "          ...,\n",
              "          [-0.4242, -0.4242, -0.4242,  ..., -0.4242, -0.4242, -0.4242],\n",
              "          [-0.4242, -0.4242, -0.4242,  ..., -0.4242, -0.4242, -0.4242],\n",
              "          [-0.4242, -0.4242, -0.4242,  ..., -0.4242, -0.4242, -0.4242]]],\n",
              "\n",
              "\n",
              "        [[[-0.4242, -0.4242, -0.4242,  ..., -0.4242, -0.4242, -0.4242],\n",
              "          [-0.4242, -0.4242, -0.4242,  ..., -0.4242, -0.4242, -0.4242],\n",
              "          [-0.4242, -0.4242, -0.4242,  ..., -0.4242, -0.4242, -0.4242],\n",
              "          ...,\n",
              "          [-0.4242, -0.4242, -0.4242,  ..., -0.4242, -0.4242, -0.4242],\n",
              "          [-0.4242, -0.4242, -0.4242,  ..., -0.4242, -0.4242, -0.4242],\n",
              "          [-0.4242, -0.4242, -0.4242,  ..., -0.4242, -0.4242, -0.4242]]],\n",
              "\n",
              "\n",
              "        [[[-0.4242, -0.4242, -0.4242,  ..., -0.4242, -0.4242, -0.4242],\n",
              "          [-0.4242, -0.4242, -0.4242,  ..., -0.4242, -0.4242, -0.4242],\n",
              "          [-0.4242, -0.4242, -0.4242,  ..., -0.4242, -0.4242, -0.4242],\n",
              "          ...,\n",
              "          [-0.4242, -0.4242, -0.4242,  ..., -0.4242, -0.4242, -0.4242],\n",
              "          [-0.4242, -0.4242, -0.4242,  ..., -0.4242, -0.4242, -0.4242],\n",
              "          [-0.4242, -0.4242, -0.4242,  ..., -0.4242, -0.4242, -0.4242]]],\n",
              "\n",
              "\n",
              "        ...,\n",
              "\n",
              "\n",
              "        [[[-0.4242, -0.4242, -0.4242,  ..., -0.4242, -0.4242, -0.4242],\n",
              "          [-0.4242, -0.4242, -0.4242,  ..., -0.4242, -0.4242, -0.4242],\n",
              "          [-0.4242, -0.4242, -0.4242,  ..., -0.4242, -0.4242, -0.4242],\n",
              "          ...,\n",
              "          [-0.4242, -0.4242, -0.4242,  ..., -0.4242, -0.4242, -0.4242],\n",
              "          [-0.4242, -0.4242, -0.4242,  ..., -0.4242, -0.4242, -0.4242],\n",
              "          [-0.4242, -0.4242, -0.4242,  ..., -0.4242, -0.4242, -0.4242]]],\n",
              "\n",
              "\n",
              "        [[[-0.4242, -0.4242, -0.4242,  ..., -0.4242, -0.4242, -0.4242],\n",
              "          [-0.4242, -0.4242, -0.4242,  ..., -0.4242, -0.4242, -0.4242],\n",
              "          [-0.4242, -0.4242, -0.4242,  ..., -0.4242, -0.4242, -0.4242],\n",
              "          ...,\n",
              "          [-0.4242, -0.4242, -0.4242,  ..., -0.4242, -0.4242, -0.4242],\n",
              "          [-0.4242, -0.4242, -0.4242,  ..., -0.4242, -0.4242, -0.4242],\n",
              "          [-0.4242, -0.4242, -0.4242,  ..., -0.4242, -0.4242, -0.4242]]],\n",
              "\n",
              "\n",
              "        [[[-0.4242, -0.4242, -0.4242,  ..., -0.4242, -0.4242, -0.4242],\n",
              "          [-0.4242, -0.4242, -0.4242,  ..., -0.4242, -0.4242, -0.4242],\n",
              "          [-0.4242, -0.4242, -0.4242,  ..., -0.4242, -0.4242, -0.4242],\n",
              "          ...,\n",
              "          [-0.4242, -0.4242, -0.4242,  ..., -0.4242, -0.4242, -0.4242],\n",
              "          [-0.4242, -0.4242, -0.4242,  ..., -0.4242, -0.4242, -0.4242],\n",
              "          [-0.4242, -0.4242, -0.4242,  ..., -0.4242, -0.4242, -0.4242]]]])"
            ]
          },
          "metadata": {},
          "execution_count": 42
        }
      ]
    },
    {
      "cell_type": "markdown",
      "metadata": {
        "id": "XOpVmfW_q4PS"
      },
      "source": [
        "## Просто выпрямим нашу матрицу в один вектор\n",
        "### То есть каждая фича в векторе это значение пикселя\n",
        "### Для нашей игрушечной задачи этого будет достаточно"
      ]
    },
    {
      "cell_type": "code",
      "metadata": {
        "colab": {
          "base_uri": "https://localhost:8080/"
        },
        "id": "SQfCBhonq4PS",
        "outputId": "c3d0ab00-3de2-4674-ba74-bdea322b7a94"
      },
      "source": [
        "x.view(x.shape[0], -1).numpy().shape"
      ],
      "execution_count": 43,
      "outputs": [
        {
          "output_type": "execute_result",
          "data": {
            "text/plain": [
              "(128, 784)"
            ]
          },
          "metadata": {},
          "execution_count": 43
        }
      ]
    },
    {
      "cell_type": "markdown",
      "metadata": {
        "id": "GnFwRihPq4PS"
      },
      "source": [
        "### x.numpy()\n",
        "Это перевод торчового тензора (некоторая абстракция, о которой мы будем говорить позже на курсе) в numpy массив"
      ]
    },
    {
      "cell_type": "code",
      "metadata": {
        "id": "FabHJfm8q4PT"
      },
      "source": [
        "for x, y in train_loader:\n",
        "    x = x.view(x.shape[0], -1).numpy()\n",
        "    y = y.numpy()\n",
        "    break"
      ],
      "execution_count": 44,
      "outputs": []
    },
    {
      "cell_type": "code",
      "metadata": {
        "colab": {
          "base_uri": "https://localhost:8080/"
        },
        "id": "l8pgShNqq4PT",
        "outputId": "a9d6f221-6c48-4770-c688-16e09bd3e117"
      },
      "source": [
        "x"
      ],
      "execution_count": 45,
      "outputs": [
        {
          "output_type": "execute_result",
          "data": {
            "text/plain": [
              "array([[-0.42421296, -0.42421296, -0.42421296, ..., -0.42421296,\n",
              "        -0.42421296, -0.42421296],\n",
              "       [-0.42421296, -0.42421296, -0.42421296, ..., -0.42421296,\n",
              "        -0.42421296, -0.42421296],\n",
              "       [-0.42421296, -0.42421296, -0.42421296, ..., -0.42421296,\n",
              "        -0.42421296, -0.42421296],\n",
              "       ...,\n",
              "       [-0.42421296, -0.42421296, -0.42421296, ..., -0.42421296,\n",
              "        -0.42421296, -0.42421296],\n",
              "       [-0.42421296, -0.42421296, -0.42421296, ..., -0.42421296,\n",
              "        -0.42421296, -0.42421296],\n",
              "       [-0.42421296, -0.42421296, -0.42421296, ..., -0.42421296,\n",
              "        -0.42421296, -0.42421296]], dtype=float32)"
            ]
          },
          "metadata": {},
          "execution_count": 45
        }
      ]
    },
    {
      "cell_type": "markdown",
      "metadata": {
        "id": "XLhxe0b_q4PT"
      },
      "source": [
        "### Размерность\n",
        "- количество примеров в батче\n",
        "- количество фичей"
      ]
    },
    {
      "cell_type": "code",
      "metadata": {
        "colab": {
          "base_uri": "https://localhost:8080/"
        },
        "id": "Qh2HsDVQq4PT",
        "outputId": "b42201bb-52f1-4e69-9ba8-de1e2137e343"
      },
      "source": [
        "x.shape"
      ],
      "execution_count": 46,
      "outputs": [
        {
          "output_type": "execute_result",
          "data": {
            "text/plain": [
              "(128, 784)"
            ]
          },
          "metadata": {},
          "execution_count": 46
        }
      ]
    },
    {
      "cell_type": "markdown",
      "metadata": {
        "id": "r34U4A6Yq4PU"
      },
      "source": [
        "# Таргеты\n",
        "- классу 0 соответствует цифра 3\n",
        "- классу 1 соответствует цифра 7"
      ]
    },
    {
      "cell_type": "code",
      "metadata": {
        "colab": {
          "base_uri": "https://localhost:8080/"
        },
        "id": "Ze_C0H18q4PU",
        "outputId": "3d72e99d-7978-4d45-a426-020a69aed940"
      },
      "source": [
        "y"
      ],
      "execution_count": 47,
      "outputs": [
        {
          "output_type": "execute_result",
          "data": {
            "text/plain": [
              "array([0, 1, 0, 1, 1, 1, 0, 1, 1, 1, 1, 0, 0, 1, 1, 1, 1, 1, 0, 0, 1, 1,\n",
              "       0, 0, 1, 0, 1, 0, 0, 1, 0, 0, 1, 1, 1, 1, 1, 0, 1, 1, 1, 1, 0, 1,\n",
              "       1, 0, 0, 0, 1, 1, 1, 0, 1, 0, 0, 0, 1, 0, 1, 1, 1, 0, 0, 1, 0, 0,\n",
              "       0, 0, 1, 0, 1, 1, 1, 1, 0, 0, 1, 0, 0, 1, 1, 1, 0, 0, 1, 0, 0, 0,\n",
              "       1, 1, 0, 1, 1, 1, 0, 1, 0, 1, 0, 1, 1, 0, 1, 1, 0, 0, 0, 0, 1, 0,\n",
              "       0, 1, 0, 0, 0, 0, 0, 0, 0, 0, 0, 1, 0, 0, 1, 0, 0, 0])"
            ]
          },
          "metadata": {},
          "execution_count": 47
        }
      ]
    },
    {
      "cell_type": "markdown",
      "metadata": {
        "id": "LMNASz0lq4PU"
      },
      "source": [
        "# Итерация по эпохам"
      ]
    },
    {
      "cell_type": "code",
      "metadata": {
        "colab": {
          "base_uri": "https://localhost:8080/"
        },
        "id": "4Iwlvv3oq4PU",
        "outputId": "df759ce4-7981-45d2-d6ee-5a68d85cfdf1"
      },
      "source": [
        "# количество эпох - полных проходов по датасету\n",
        "epochs = 3\n",
        "\n",
        "for n_epoch in range(epochs):\n",
        "    \n",
        "    dataset_passed_samples = 0\n",
        "    \n",
        "    for x, y in train_loader:\n",
        "        \n",
        "        # вот здесь мы могли бы как-то манипулировать с данными\n",
        "        # например, учить, но пока этого делать не будет\n",
        "        # только демонстрация\n",
        "        \n",
        "        time.sleep(0.01)\n",
        "        \n",
        "        dataset_passed_samples += x.shape[0]\n",
        "        \n",
        "        dataset_passed_percent = dataset_passed_samples * 100 / train_loader.dataset.data.shape[0]\n",
        "        \n",
        "        print(f'Эпоха - {n_epoch + 1}, прошли - {dataset_passed_percent:.2f} % датасета', end='\\r')\n",
        "        \n",
        "    print('\\r')"
      ],
      "execution_count": 48,
      "outputs": [
        {
          "output_type": "stream",
          "name": "stdout",
          "text": [
            "Эпоха - 1, прошли - 100.00 % датасета\n",
            "Эпоха - 2, прошли - 100.00 % датасета\n",
            "Эпоха - 3, прошли - 100.00 % датасета\n"
          ]
        }
      ]
    },
    {
      "cell_type": "markdown",
      "metadata": {
        "id": "-ge-dnVhq4PV"
      },
      "source": [
        "# Небольшие пояснения по numpy"
      ]
    },
    {
      "cell_type": "code",
      "metadata": {
        "colab": {
          "base_uri": "https://localhost:8080/"
        },
        "id": "JXJBPV4Lq4PV",
        "outputId": "7341b103-a9ae-49b7-e4a2-d5aa9c09235d"
      },
      "source": [
        "# таким образом мы создаем матрицу 64 на 512 с рандомными значениями\n",
        "x = np.random.rand(64, 512)\n",
        "x"
      ],
      "execution_count": 49,
      "outputs": [
        {
          "output_type": "execute_result",
          "data": {
            "text/plain": [
              "array([[0.25130466, 0.01842845, 0.92472425, ..., 0.90910883, 0.92390007,\n",
              "        0.91521617],\n",
              "       [0.06910123, 0.20592954, 0.99870612, ..., 0.44024073, 0.67898756,\n",
              "        0.72825633],\n",
              "       [0.5731927 , 0.21410536, 0.47719384, ..., 0.55229204, 0.16752533,\n",
              "        0.74440624],\n",
              "       ...,\n",
              "       [0.54130576, 0.20755935, 0.11698486, ..., 0.27000835, 0.12276454,\n",
              "        0.1894475 ],\n",
              "       [0.8586304 , 0.89863417, 0.14222424, ..., 0.65027312, 0.66324968,\n",
              "        0.06649167],\n",
              "       [0.03104015, 0.67048148, 0.97246694, ..., 0.9857324 , 0.0638058 ,\n",
              "        0.02530329]])"
            ]
          },
          "metadata": {},
          "execution_count": 49
        }
      ]
    },
    {
      "cell_type": "code",
      "metadata": {
        "colab": {
          "base_uri": "https://localhost:8080/"
        },
        "id": "zfouoSADq4PV",
        "outputId": "14664868-d197-44fc-ee59-aa1af98ec94f"
      },
      "source": [
        "# большинство функций применяются к каждому элементу массива\n",
        "# здесь мы каждый элемент массива возвели в квадрат и прибавили к получившемуся значению логарифм элемента матрицы \n",
        "x ** 2 + np.log(x)"
      ],
      "execution_count": 50,
      "outputs": [
        {
          "output_type": "execute_result",
          "data": {
            "text/plain": [
              "array([[-1.31793527, -3.99352002,  0.77685525, ...,  0.7311884 ,\n",
              "         0.77443997,  0.74902565],\n",
              "       [-2.66740774, -1.53781424,  0.9961192 , ..., -0.62662168,\n",
              "         0.07387163,  0.21325508],\n",
              "       [-0.22798345, -1.49544596, -0.51211853, ..., -0.28865183,\n",
              "        -1.75855597,  0.25897228],\n",
              "       ...,\n",
              "       [-0.32075905, -1.52925707, -2.13202532, ..., -1.23639788,\n",
              "        -2.0824159 , -1.627753  ],\n",
              "       [ 0.58482946,  0.70066411, -1.9301226 , ..., -0.00750768,\n",
              "         0.02929636, -2.70625739],\n",
              "       [-3.47151038,  0.04978622,  0.91777276, ...,  0.95729801,\n",
              "        -2.74784001, -3.67618071]])"
            ]
          },
          "metadata": {},
          "execution_count": 50
        }
      ]
    },
    {
      "cell_type": "code",
      "metadata": {
        "id": "A_C5WSjzq4PW"
      },
      "source": [
        "y = np.random.rand(512, 1024)\n",
        "# скалярное произведение\n",
        "res = np.dot(x, y)"
      ],
      "execution_count": 51,
      "outputs": []
    },
    {
      "cell_type": "code",
      "metadata": {
        "colab": {
          "base_uri": "https://localhost:8080/"
        },
        "id": "VlDw21W5q4PW",
        "outputId": "7e048816-25d7-415f-907a-1b6b1fb911cc"
      },
      "source": [
        "res.shape"
      ],
      "execution_count": 52,
      "outputs": [
        {
          "output_type": "execute_result",
          "data": {
            "text/plain": [
              "(64, 1024)"
            ]
          },
          "metadata": {},
          "execution_count": 52
        }
      ]
    },
    {
      "cell_type": "code",
      "metadata": {
        "colab": {
          "base_uri": "https://localhost:8080/"
        },
        "id": "XWRiXLCeq4PW",
        "outputId": "27abe41c-a017-409c-89eb-5950a2123976"
      },
      "source": [
        "res.shape == (x.shape[0], y.shape[1])"
      ],
      "execution_count": 53,
      "outputs": [
        {
          "output_type": "execute_result",
          "data": {
            "text/plain": [
              "True"
            ]
          },
          "metadata": {},
          "execution_count": 53
        }
      ]
    },
    {
      "cell_type": "markdown",
      "metadata": {
        "id": "4pbINbzrq4PX"
      },
      "source": [
        "# Импортируем нашу библиотеку\n",
        "В ней реализованы некоторые полезные методы, в модуле `layers` есть реализация сигмоиды. Остальное вам смотреть необязательно, это некоторые дополнения, упрощающие вам жизнь."
      ]
    },
    {
      "cell_type": "code",
      "metadata": {
        "id": "ImHPgSkLq4PX"
      },
      "source": [
        "from our_library import layers, wrapper, tools"
      ],
      "execution_count": 54,
      "outputs": []
    },
    {
      "cell_type": "markdown",
      "metadata": {
        "id": "hQfi0pDnq4PX"
      },
      "source": [
        "## Реализуйте слои:\n",
        "- Linear - линейная трансформация (не забудьте, что у нас в этом слое как раз есть обучаемые параметры)\n",
        "- ReLU\n",
        "- BCELoss - Binary Cross Entropy\n",
        "\n",
        "\n",
        "## Вы можете реализовать как здесь, так и в файла layers\n",
        "\n",
        "- TIP: np.expand_dims(y, 1) для BCE, так как BCE на вход принимает просто вектор размерностью (батч сайз, 1)\n",
        "\n",
        "## Также внутри layers есть код для Negative Log-Likelihood (сразу с софтмаксом) для примера"
      ]
    },
    {
      "cell_type": "markdown",
      "metadata": {
        "id": "cB7s3lIEq4PY"
      },
      "source": [
        "# Пример c сигмоидой\n",
        "В `our_library.layers` также это есть"
      ]
    },
    {
      "cell_type": "code",
      "metadata": {
        "id": "cVRRp75Sq4PY"
      },
      "source": [
        "class Sigmoid:\n",
        "\n",
        "    def __init__(self):\n",
        "\n",
        "        self._sigmoid_result = None\n",
        "\n",
        "    def forward(self, x):\n",
        "\n",
        "        self._sigmoid_result = 1 / (1 + np.exp(-x))\n",
        "\n",
        "        return self._sigmoid_result\n",
        "\n",
        "    def backward(self, grad):\n",
        "        \"\"\"\n",
        "        :grad: градиент от предыдущего слоя\n",
        "        :return: градиент для следующего слоя\n",
        "        \"\"\"\n",
        "\n",
        "        new_grad = self._sigmoid_result * (1 - self._sigmoid_result) * grad\n",
        "\n",
        "        return new_grad\n",
        "\n",
        "    def step(self, learning_step):\n",
        "\n",
        "        pass"
      ],
      "execution_count": 55,
      "outputs": []
    },
    {
      "cell_type": "markdown",
      "metadata": {
        "id": "q9forwxMq4PY"
      },
      "source": [
        "# Тестирование"
      ]
    },
    {
      "cell_type": "code",
      "metadata": {
        "id": "4K_5UHPUq4PY"
      },
      "source": [
        "x = np.array([[0.91551091, 0.15073826, 0.77137556, 0.59352491],\n",
        "              [0.81126142, 0.1194849 , 0.29651178, 0.19066982]])\n",
        "\n",
        "correct_forward_result = np.array([[0.71412654, 0.53761337, 0.68381838, 0.64417351],\n",
        "                                   [0.69237824, 0.52983574, 0.57358957, 0.54752357]])\n",
        "\n",
        "correct_backward_result = np.array([[0.20414982, 0.24858523, 0.2162108 , 0.229214  ],\n",
        "                                    [0.21299061, 0.24910983, 0.24458457, 0.24774151]])"
      ],
      "execution_count": 56,
      "outputs": []
    },
    {
      "cell_type": "code",
      "metadata": {
        "id": "Dj_wRSe6q4PY"
      },
      "source": [
        "sigmoid_layer = Sigmoid()\n",
        "forward_result = sigmoid_layer.forward(x)\n",
        "backward_result = sigmoid_layer.backward(np.ones_like(x))"
      ],
      "execution_count": 57,
      "outputs": []
    },
    {
      "cell_type": "code",
      "metadata": {
        "id": "ttBUJOksq4PZ"
      },
      "source": [
        "# значения должны быть близкими\n",
        "assert np.allclose(correct_forward_result, forward_result)"
      ],
      "execution_count": 58,
      "outputs": []
    },
    {
      "cell_type": "code",
      "metadata": {
        "id": "JvfzDkXjq4PZ"
      },
      "source": [
        "# значения должны быть близкими\n",
        "assert np.allclose(correct_backward_result, backward_result)"
      ],
      "execution_count": 59,
      "outputs": []
    },
    {
      "cell_type": "markdown",
      "metadata": {
        "id": "FuDnpKvYq4PZ"
      },
      "source": [
        "# Линейный слой"
      ]
    },
    {
      "cell_type": "code",
      "metadata": {
        "id": "n_Rlzn5eq4PZ"
      },
      "source": [
        "class Linear:\n",
        "\n",
        "    def __init__(self, in_features, out_features):\n",
        "        \n",
        "        # инициализируем веса\n",
        "        self.weight = np.random.rand(in_features, out_features) * 0.01\n",
        "        self.bias = np.zeros(out_features,)\n",
        "        \n",
        "        # сохраняем градиент для весов\n",
        "        self._grad_weight = None\n",
        "        self._grad_bias = None\n",
        "        self._x = None\n",
        "\n",
        "    def forward(self, x):\n",
        "        self._x = x\n",
        "        return np.dot(x, self.weight) + self.bias\n",
        "\n",
        "    def backward(self, grad):\n",
        "        backward_result = np.dot(grad, np.transpose(self.weight))\n",
        "        self._grad_weight = np.dot(np.transpose(self._x), grad)\n",
        "        self._grad_bias = np.sum(grad, axis=0)\n",
        "        return backward_result\n",
        "\n",
        "    def step(self, learning_rate):\n",
        "        self.weight = self.weight - self._grad_weight * learning_rate\n",
        "        self.bias = self.bias - self._grad_bias * learning_rate"
      ],
      "execution_count": 60,
      "outputs": []
    },
    {
      "cell_type": "markdown",
      "metadata": {
        "id": "n3h8ce_cq4PZ"
      },
      "source": [
        "# Тестирование"
      ]
    },
    {
      "cell_type": "code",
      "metadata": {
        "id": "PQW2GzF_q4Pa"
      },
      "source": [
        "correct_forward_result = np.array([[0.01148086, 0.01477317, 0.00917651],\n",
        "                                   [0.00887036, 0.00972334, 0.00526646]])\n",
        "\n",
        "previous_grad = np.array([[0.01595814, 0.85148336, 0.9980065 ],\n",
        "                          [0.73044998, 0.18287682, 0.41246361]])\n",
        "\n",
        "correct_backward_result = np.array([[0.01089683, 0.00842654, 0.00822628, 0.00729307],\n",
        "                                    [0.00958704, 0.00833055, 0.00209236, 0.00543544]])\n",
        "\n",
        "correct_grad_weight = np.array([[0.60719574, 0.92790321, 1.24830165],\n",
        "                                [0.08968325, 0.15020214, 0.19972094],\n",
        "                                [0.22889674, 0.71103859, 0.89213814],\n",
        "                                [0.14874632, 0.54024567, 0.67098608]])\n",
        "\n",
        "correct_grad_bias = np.array([0.74640812, 1.03436018, 1.41047011])"
      ],
      "execution_count": 61,
      "outputs": []
    },
    {
      "cell_type": "code",
      "metadata": {
        "id": "WEUw2qKSq4Pa"
      },
      "source": [
        "linear = Linear(in_features=4, out_features=3)"
      ],
      "execution_count": 62,
      "outputs": []
    },
    {
      "cell_type": "code",
      "metadata": {
        "id": "WVuWGWqxq4Pa"
      },
      "source": [
        "# так как внутри слоя мы объвяляем наши веса рандомно (домножая на 0.01), то давайте присвоим им для теста конкретные значения\n",
        "\n",
        "linear.weight = np.array([[0.00879391, 0.0075844 , 0.00430709],\n",
        "                          [0.00884834, 0.00921104, 0.00044317],\n",
        "                          [0.00011441, 0.00822498, 0.00122346],\n",
        "                          [0.00338301, 0.0001627 , 0.00711473]])\n",
        "\n",
        "linear.bias = np.array([0., 0., 0.])"
      ],
      "execution_count": 63,
      "outputs": []
    },
    {
      "cell_type": "code",
      "metadata": {
        "id": "XurLb2oqq4Pa"
      },
      "source": [
        "forward = linear.forward(x)\n",
        "backward = linear.backward(previous_grad)"
      ],
      "execution_count": 64,
      "outputs": []
    },
    {
      "cell_type": "code",
      "metadata": {
        "id": "hu_zYRr-q4Pa"
      },
      "source": [
        "# значения должны быть близкими\n",
        "assert np.allclose(correct_forward_result, forward)"
      ],
      "execution_count": 65,
      "outputs": []
    },
    {
      "cell_type": "code",
      "metadata": {
        "id": "-YvHBuuRq4Pb"
      },
      "source": [
        "# значения должны быть близкими\n",
        "assert np.allclose(correct_backward_result, backward)"
      ],
      "execution_count": 66,
      "outputs": []
    },
    {
      "cell_type": "code",
      "metadata": {
        "id": "JtAzV-3zq4Pb"
      },
      "source": [
        "# значения должны быть близкими\n",
        "assert np.allclose(linear._grad_weight, correct_grad_weight)"
      ],
      "execution_count": 67,
      "outputs": []
    },
    {
      "cell_type": "code",
      "metadata": {
        "id": "yBby14u3q4Pb"
      },
      "source": [
        "# значения должны быть близкими\n",
        "assert np.allclose(linear._grad_bias, correct_grad_bias)"
      ],
      "execution_count": 68,
      "outputs": []
    },
    {
      "cell_type": "markdown",
      "metadata": {
        "id": "SpWPKYt5q4Pb"
      },
      "source": [
        "# ReLU"
      ]
    },
    {
      "cell_type": "code",
      "metadata": {
        "id": "U8MM9Md4q4Pb"
      },
      "source": [
        "class ReLU:\n",
        "\n",
        "    def __init__(self):\n",
        "        self._mask = None\n",
        "\n",
        "    def forward(self, x):\n",
        "        positive = x > 0\n",
        "        self._mask = positive.astype(np.int_)\n",
        "        return x * self._mask\n",
        "\n",
        "    def backward(self, prev_grad):\n",
        "        return prev_grad * self._mask\n",
        "\n",
        "    def step(self, learning_rate):\n",
        "        pass"
      ],
      "execution_count": 69,
      "outputs": []
    },
    {
      "cell_type": "markdown",
      "metadata": {
        "id": "85z_ig10q4Pc"
      },
      "source": [
        "# Тестирование"
      ]
    },
    {
      "cell_type": "code",
      "metadata": {
        "id": "lQCiO-Hjq4Pc"
      },
      "source": [
        "x = np.array([[ 0.86811233, -0.23718669, -0.18401917, -0.37591633],\n",
        "              [-0.40626018,  0.37746975, -0.46929233,  0.79067681]])\n",
        "\n",
        "correct_forward_result = np.array([[0.86811233, 0.        , 0.        , 0.        ],\n",
        "                                   [0.        , 0.37746975, 0.        , 0.79067681]])\n",
        "\n",
        "previous_grad = np.array([[0.22436157, 0.61897707, 0.67895832, 0.72428618],\n",
        "                          [0.71231319, 0.87345215, 0.91129578, 0.90625846]])\n",
        "\n",
        "correct_backward_result = np.array([[0.22436157, 0.        , 0.        , 0.        ],\n",
        "                                    [0.        , 0.87345215, 0.        , 0.90625846]])"
      ],
      "execution_count": 70,
      "outputs": []
    },
    {
      "cell_type": "code",
      "metadata": {
        "id": "ziffyWXhq4Pc"
      },
      "source": [
        "relu = ReLU()"
      ],
      "execution_count": 71,
      "outputs": []
    },
    {
      "cell_type": "code",
      "metadata": {
        "id": "2t5v_Tmpq4Pc"
      },
      "source": [
        "forward = relu.forward(x)\n",
        "backward = relu.backward(previous_grad)"
      ],
      "execution_count": 72,
      "outputs": []
    },
    {
      "cell_type": "code",
      "metadata": {
        "id": "KO5y7xcSq4Pc"
      },
      "source": [
        "#значения должны быть близкими\n",
        "assert np.allclose(correct_forward_result, forward)"
      ],
      "execution_count": 73,
      "outputs": []
    },
    {
      "cell_type": "code",
      "metadata": {
        "id": "LYhEGchfq4Pc"
      },
      "source": [
        "# значения должны быть близкими\n",
        "assert np.allclose(correct_backward_result, backward)"
      ],
      "execution_count": 74,
      "outputs": []
    },
    {
      "cell_type": "markdown",
      "metadata": {
        "id": "9ePyuzRiq4Pc"
      },
      "source": [
        "# BCE test"
      ]
    },
    {
      "cell_type": "markdown",
      "metadata": {
        "id": "yTU0MGIRq4Pd"
      },
      "source": [
        "### Не забудьте добавить np.expand_dims(y, 1) в forward"
      ]
    },
    {
      "cell_type": "code",
      "metadata": {
        "id": "wcU0nAn9q4Pd"
      },
      "source": [
        "class BCELoss:\n",
        "    def __init__(self):\n",
        "        self._x = None\n",
        "        self._y = None\n",
        "\n",
        "    def forward(self, x, y):\n",
        "        y = np.expand_dims(y, 1)\n",
        "        self._x = x\n",
        "        self._y = y\n",
        "        return - np.mean(np.log(x) * y + np.log(1 - x) * (1 - y))\n",
        "\n",
        "    def backward(self):\n",
        "        return (self._x - self._y) / (self._x - self._x * self._x) / self._x.shape[0]\n",
        "\n",
        "    def step(self, learning_rate):\n",
        "        pass"
      ],
      "execution_count": 75,
      "outputs": []
    },
    {
      "cell_type": "markdown",
      "metadata": {
        "id": "hdXUW9BZq4Pd"
      },
      "source": [
        "# Тестирование"
      ]
    },
    {
      "cell_type": "code",
      "metadata": {
        "id": "zb-wEIQ5q4Pd"
      },
      "source": [
        "x = np.array([[0.76242307],\n",
        "              [0.0908412 ],\n",
        "              [0.60176646],\n",
        "              [0.09606798]])\n",
        "\n",
        "y = np.array([1, 0, 1, 0])\n",
        "\n",
        "correct_forward_result = 0.24384403491500606\n",
        "\n",
        "correct_backward_result = np.array([[-0.32790194],\n",
        "                                    [ 0.27497946],\n",
        "                                    [-0.41544356],\n",
        "                                    [ 0.27656947]])"
      ],
      "execution_count": 76,
      "outputs": []
    },
    {
      "cell_type": "code",
      "metadata": {
        "id": "JO22ftk0q4Pd"
      },
      "source": [
        "loss = BCELoss()"
      ],
      "execution_count": 77,
      "outputs": []
    },
    {
      "cell_type": "code",
      "metadata": {
        "id": "aB7K5cufq4Pd"
      },
      "source": [
        "forward = loss.forward(x, y)\n",
        "backward = loss.backward()"
      ],
      "execution_count": 78,
      "outputs": []
    },
    {
      "cell_type": "code",
      "metadata": {
        "id": "BoJaPxOfq4Pe"
      },
      "source": [
        "# значения должны быть близкими\n",
        "assert np.allclose(correct_forward_result, forward)"
      ],
      "execution_count": 79,
      "outputs": []
    },
    {
      "cell_type": "code",
      "metadata": {
        "id": "akDW9A15q4Pe"
      },
      "source": [
        "# значения должны быть близкими\n",
        "assert np.allclose(correct_backward_result, backward)"
      ],
      "execution_count": 80,
      "outputs": []
    },
    {
      "cell_type": "markdown",
      "metadata": {
        "id": "WzNw_nvnq4Pe"
      },
      "source": [
        "## Реализуйте обертку над слоями - нейронную сеть\n",
        "- TIP 1: modules - это список слоев, которые вы сделали выше. Порядок важен\n",
        "- TIP 2: обновление весов можно сделать циклом\n",
        "- TIP 3: forward идет в одну сторону по слоям, а backward в другую\n",
        "- TIP 4: В backward функции потерь мы не передаем предыдущий градиент, потому что это начало backward, то есть последний слой нашей сети\n",
        "- TIP 5: forward и backward ничего не должны отдавать, в них должны быть расчитаны градиенты для каждого слоя\n",
        "- TIP 6: в step нужно пройтись по всем слоям и обновить веса"
      ]
    },
    {
      "cell_type": "code",
      "metadata": {
        "id": "y58Ek_0Iq4Pe"
      },
      "source": [
        "class NeuralNetwork:\n",
        "\n",
        "    def __init__(self, modules):\n",
        "\n",
        "        # список слоев\n",
        "        self.modules = modules\n",
        "\n",
        "    def forward(self, x):\n",
        "        for layer in self.modules:\n",
        "            x = layer.forward(x)\n",
        "        return x\n",
        "\n",
        "    def backward(self, grad):\n",
        "        \"\"\"\n",
        "        :grad: градиент от функции потерь\n",
        "        :return: возвращать ничего не потребуется\n",
        "        \"\"\"\n",
        "        for idx, layer in enumerate(self.modules[::-1]):\n",
        "            try:\n",
        "                grad = layer.backward(grad)\n",
        "            except Exception as e:\n",
        "                print(f\"{type(layer)} {str(idx)}\\n\")\n",
        "                raise e\n",
        "    def step(self, learning_rate):\n",
        "        for layer in self.modules:\n",
        "            layer.step(learning_rate)"
      ],
      "execution_count": 81,
      "outputs": []
    },
    {
      "cell_type": "markdown",
      "metadata": {
        "id": "XHrEn8Q_q4Pe"
      },
      "source": [
        "## Реализуйте обертку над моделью"
      ]
    },
    {
      "cell_type": "code",
      "metadata": {
        "id": "J4Jmc0rmq4Pe"
      },
      "source": [
        "class MNISTWrapper(wrapper.Wrapper):\n",
        "\n",
        "    def train_batch(self, x, y):\n",
        "        \"\"\"\n",
        "        Нужно реализовать одну итерацию обучения модели:\n",
        "        1. Рассчет forward\n",
        "        2. Рассчет функции потерь\n",
        "        3. Рассчет backward от функции потерь\n",
        "        4. Рассчет backward по модели, передавая туда значение градиента по функции потерь\n",
        "        5. Обновление весов с помощью step\n",
        "        :param x: входные данные np.array with shape (batch_size, n_features)\n",
        "        :param y: предсказания np.array with shape (batch_size, n_classes)\n",
        "        :return:\n",
        "        loss_batch - значение функции потерь, просто скаляр\n",
        "        prediction - матрица предсказаний вашей модели\n",
        "\n",
        "        напомню важные штуки, которые знает наш класс:\n",
        "        self.model\n",
        "        self.loss\n",
        "        self.learning_rate\n",
        "        \"\"\"\n",
        "        # КОД ЗДЕСЬ\n",
        "        prediction = self.model.forward(x)\n",
        "        loss_batch = self.loss.forward(prediction, y)\n",
        "        loss_grad = self.loss.backward()\n",
        "        self.model.backward(loss_grad)\n",
        "        self.model.step(self.learning_rate)\n",
        "        return loss_batch, prediction"
      ],
      "execution_count": 82,
      "outputs": []
    },
    {
      "cell_type": "code",
      "metadata": {
        "id": "adyqK6dNq4Pf"
      },
      "source": [
        "# задайте гиперпараметры\n",
        "learning_rate = 0.01\n",
        "epochs = 12\n",
        "\n",
        "# задайте слои в свою нейронную сеть, например, 3 слоя\n",
        "neural_network = NeuralNetwork([\n",
        "    Linear(784, 512),\n",
        "    ReLU(),\n",
        "    Linear(512, 256),\n",
        "    ReLU(),\n",
        "    Linear(256, 1),\n",
        "    Sigmoid()                                         \n",
        "])\n",
        "\n",
        "loss = BCELoss()"
      ],
      "execution_count": 84,
      "outputs": []
    },
    {
      "cell_type": "code",
      "metadata": {
        "id": "shqQnbOYq4Pf"
      },
      "source": [
        "classifier = MNISTWrapper(model=neural_network,\n",
        "                          loss=loss,\n",
        "                          learning_rate=learning_rate)"
      ],
      "execution_count": 85,
      "outputs": []
    },
    {
      "cell_type": "markdown",
      "metadata": {
        "id": "GIHbpTovq4Pf"
      },
      "source": [
        "## Обучение модели"
      ]
    },
    {
      "cell_type": "code",
      "metadata": {
        "colab": {
          "base_uri": "https://localhost:8080/"
        },
        "id": "EPXmk9dcq4Pg",
        "outputId": "f5b57a7d-eb2b-4a6b-d88f-7676ff6ee370"
      },
      "source": [
        "classifier.train(train_loader, test_loader, epochs=24)"
      ],
      "execution_count": 87,
      "outputs": [
        {
          "output_type": "stream",
          "name": "stderr",
          "text": [
            "Epoch 1: 100%|██████████| 97/97 [00:06<00:00, 15.00it/s, loss=0.206, metric=0.957]\n",
            "Epoch 2: 100%|██████████| 97/97 [00:06<00:00, 15.40it/s, loss=0.192, metric=0.96]\n",
            "Epoch 3: 100%|██████████| 97/97 [00:06<00:00, 15.11it/s, loss=0.18, metric=0.964]\n",
            "Epoch 4: 100%|██████████| 97/97 [00:08<00:00, 11.49it/s, loss=0.169, metric=0.966]\n",
            "Epoch 5: 100%|██████████| 97/97 [00:06<00:00, 14.88it/s, loss=0.16, metric=0.968]\n",
            "Epoch 6: 100%|██████████| 97/97 [00:06<00:00, 14.70it/s, loss=0.151, metric=0.971]\n",
            "Epoch 7: 100%|██████████| 97/97 [00:06<00:00, 14.97it/s, loss=0.144, metric=0.972]\n",
            "Epoch 8: 100%|██████████| 97/97 [00:06<00:00, 15.07it/s, loss=0.137, metric=0.973]\n",
            "Epoch 9: 100%|██████████| 97/97 [00:06<00:00, 15.09it/s, loss=0.131, metric=0.975]\n",
            "Epoch 10: 100%|██████████| 97/97 [00:06<00:00, 15.43it/s, loss=0.125, metric=0.975]\n",
            "Epoch 11: 100%|██████████| 97/97 [00:06<00:00, 15.10it/s, loss=0.12, metric=0.977]\n",
            "Epoch 12: 100%|██████████| 97/97 [00:06<00:00, 15.00it/s, loss=0.115, metric=0.977]\n"
          ]
        }
      ]
    },
    {
      "cell_type": "code",
      "metadata": {
        "colab": {
          "base_uri": "https://localhost:8080/",
          "height": 721
        },
        "id": "p6dVWLAtq4Pg",
        "outputId": "1e3e95ed-c7a6-4038-f412-313f168d710e"
      },
      "source": [
        "classifier.plot()"
      ],
      "execution_count": 88,
      "outputs": [
        {
          "output_type": "display_data",
          "data": {
            "image/png": "[encoded data removed]",
            "text/plain": [
              "<Figure size 1152x864 with 2 Axes>"
            ]
          },
          "metadata": {
            "needs_background": "light"
          }
        }
      ]
    },
    {
      "cell_type": "code",
      "metadata": {
        "id": "VHarORRpq4Pg"
      },
      "source": [
        ""
      ],
      "execution_count": null,
      "outputs": []
    }
  ]
}