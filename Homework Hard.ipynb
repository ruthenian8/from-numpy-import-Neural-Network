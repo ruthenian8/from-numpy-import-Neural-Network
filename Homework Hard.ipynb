{
  "nbformat": 4,
  "nbformat_minor": 0,
  "metadata": {
    "kernelspec": {
      "display_name": "Python 3",
      "language": "python",
      "name": "python3"
    },
    "language_info": {
      "codemirror_mode": {
        "name": "ipython",
        "version": 3
      },
      "file_extension": ".py",
      "mimetype": "text/x-python",
      "name": "python",
      "nbconvert_exporter": "python",
      "pygments_lexer": "ipython3",
      "version": "3.8.8"
    },
    "colab": {
      "name": "Homework Hard.ipynb",
      "provenance": []
    },
    "widgets": {
      "application/vnd.jupyter.widget-state+json": {
        "911483f7399f43c4952e1a5e814b39c9": {
          "model_module": "@jupyter-widgets/controls",
          "model_name": "HBoxModel",
          "model_module_version": "1.5.0",
          "state": {
            "_view_name": "HBoxView",
            "_dom_classes": [],
            "_model_name": "HBoxModel",
            "_view_module": "@jupyter-widgets/controls",
            "_model_module_version": "1.5.0",
            "_view_count": null,
            "_view_module_version": "1.5.0",
            "box_style": "",
            "layout": "IPY_MODEL_da3a2cef4f2b428e9d1b41b767950fda",
            "_model_module": "@jupyter-widgets/controls",
            "children": [
              "IPY_MODEL_0269d2af37f64e60baece77ade1e4551",
              "IPY_MODEL_3879d0fc82484e7fbd4ed872de69cb58",
              "IPY_MODEL_b280e40a79ad4ad7860901ffaa90493c"
            ]
          }
        },
        "da3a2cef4f2b428e9d1b41b767950fda": {
          "model_module": "@jupyter-widgets/base",
          "model_name": "LayoutModel",
          "model_module_version": "1.2.0",
          "state": {
            "_view_name": "LayoutView",
            "grid_template_rows": null,
            "right": null,
            "justify_content": null,
            "_view_module": "@jupyter-widgets/base",
            "overflow": null,
            "_model_module_version": "1.2.0",
            "_view_count": null,
            "flex_flow": null,
            "width": null,
            "min_width": null,
            "border": null,
            "align_items": null,
            "bottom": null,
            "_model_module": "@jupyter-widgets/base",
            "top": null,
            "grid_column": null,
            "overflow_y": null,
            "overflow_x": null,
            "grid_auto_flow": null,
            "grid_area": null,
            "grid_template_columns": null,
            "flex": null,
            "_model_name": "LayoutModel",
            "justify_items": null,
            "grid_row": null,
            "max_height": null,
            "align_content": null,
            "visibility": null,
            "align_self": null,
            "height": null,
            "min_height": null,
            "padding": null,
            "grid_auto_rows": null,
            "grid_gap": null,
            "max_width": null,
            "order": null,
            "_view_module_version": "1.2.0",
            "grid_template_areas": null,
            "object_position": null,
            "object_fit": null,
            "grid_auto_columns": null,
            "margin": null,
            "display": null,
            "left": null
          }
        },
        "0269d2af37f64e60baece77ade1e4551": {
          "model_module": "@jupyter-widgets/controls",
          "model_name": "HTMLModel",
          "model_module_version": "1.5.0",
          "state": {
            "_view_name": "HTMLView",
            "style": "IPY_MODEL_f40fc500bbe84c70af20a5289818950a",
            "_dom_classes": [],
            "description": "",
            "_model_name": "HTMLModel",
            "placeholder": "​",
            "_view_module": "@jupyter-widgets/controls",
            "_model_module_version": "1.5.0",
            "value": "",
            "_view_count": null,
            "_view_module_version": "1.5.0",
            "description_tooltip": null,
            "_model_module": "@jupyter-widgets/controls",
            "layout": "IPY_MODEL_b788c4baa4d640f29212c40b2e5e90b4"
          }
        },
        "3879d0fc82484e7fbd4ed872de69cb58": {
          "model_module": "@jupyter-widgets/controls",
          "model_name": "FloatProgressModel",
          "model_module_version": "1.5.0",
          "state": {
            "_view_name": "ProgressView",
            "style": "IPY_MODEL_75ee611c008c4e7fbea4b13e96ccf5a3",
            "_dom_classes": [],
            "description": "",
            "_model_name": "FloatProgressModel",
            "bar_style": "success",
            "max": 9912422,
            "_view_module": "@jupyter-widgets/controls",
            "_model_module_version": "1.5.0",
            "value": 9912422,
            "_view_count": null,
            "_view_module_version": "1.5.0",
            "orientation": "horizontal",
            "min": 0,
            "description_tooltip": null,
            "_model_module": "@jupyter-widgets/controls",
            "layout": "IPY_MODEL_d90051d6fa534ffaa5fb7afa8c081629"
          }
        },
        "b280e40a79ad4ad7860901ffaa90493c": {
          "model_module": "@jupyter-widgets/controls",
          "model_name": "HTMLModel",
          "model_module_version": "1.5.0",
          "state": {
            "_view_name": "HTMLView",
            "style": "IPY_MODEL_9dca446319e5455aad11c2cc17db386c",
            "_dom_classes": [],
            "description": "",
            "_model_name": "HTMLModel",
            "placeholder": "​",
            "_view_module": "@jupyter-widgets/controls",
            "_model_module_version": "1.5.0",
            "value": " 9913344/? [00:00&lt;00:00, 48825561.60it/s]",
            "_view_count": null,
            "_view_module_version": "1.5.0",
            "description_tooltip": null,
            "_model_module": "@jupyter-widgets/controls",
            "layout": "IPY_MODEL_126f876f630d469497bfe97bfe6fc1d5"
          }
        },
        "f40fc500bbe84c70af20a5289818950a": {
          "model_module": "@jupyter-widgets/controls",
          "model_name": "DescriptionStyleModel",
          "model_module_version": "1.5.0",
          "state": {
            "_view_name": "StyleView",
            "_model_name": "DescriptionStyleModel",
            "description_width": "",
            "_view_module": "@jupyter-widgets/base",
            "_model_module_version": "1.5.0",
            "_view_count": null,
            "_view_module_version": "1.2.0",
            "_model_module": "@jupyter-widgets/controls"
          }
        },
        "b788c4baa4d640f29212c40b2e5e90b4": {
          "model_module": "@jupyter-widgets/base",
          "model_name": "LayoutModel",
          "model_module_version": "1.2.0",
          "state": {
            "_view_name": "LayoutView",
            "grid_template_rows": null,
            "right": null,
            "justify_content": null,
            "_view_module": "@jupyter-widgets/base",
            "overflow": null,
            "_model_module_version": "1.2.0",
            "_view_count": null,
            "flex_flow": null,
            "width": null,
            "min_width": null,
            "border": null,
            "align_items": null,
            "bottom": null,
            "_model_module": "@jupyter-widgets/base",
            "top": null,
            "grid_column": null,
            "overflow_y": null,
            "overflow_x": null,
            "grid_auto_flow": null,
            "grid_area": null,
            "grid_template_columns": null,
            "flex": null,
            "_model_name": "LayoutModel",
            "justify_items": null,
            "grid_row": null,
            "max_height": null,
            "align_content": null,
            "visibility": null,
            "align_self": null,
            "height": null,
            "min_height": null,
            "padding": null,
            "grid_auto_rows": null,
            "grid_gap": null,
            "max_width": null,
            "order": null,
            "_view_module_version": "1.2.0",
            "grid_template_areas": null,
            "object_position": null,
            "object_fit": null,
            "grid_auto_columns": null,
            "margin": null,
            "display": null,
            "left": null
          }
        },
        "75ee611c008c4e7fbea4b13e96ccf5a3": {
          "model_module": "@jupyter-widgets/controls",
          "model_name": "ProgressStyleModel",
          "model_module_version": "1.5.0",
          "state": {
            "_view_name": "StyleView",
            "_model_name": "ProgressStyleModel",
            "description_width": "",
            "_view_module": "@jupyter-widgets/base",
            "_model_module_version": "1.5.0",
            "_view_count": null,
            "_view_module_version": "1.2.0",
            "bar_color": null,
            "_model_module": "@jupyter-widgets/controls"
          }
        },
        "d90051d6fa534ffaa5fb7afa8c081629": {
          "model_module": "@jupyter-widgets/base",
          "model_name": "LayoutModel",
          "model_module_version": "1.2.0",
          "state": {
            "_view_name": "LayoutView",
            "grid_template_rows": null,
            "right": null,
            "justify_content": null,
            "_view_module": "@jupyter-widgets/base",
            "overflow": null,
            "_model_module_version": "1.2.0",
            "_view_count": null,
            "flex_flow": null,
            "width": null,
            "min_width": null,
            "border": null,
            "align_items": null,
            "bottom": null,
            "_model_module": "@jupyter-widgets/base",
            "top": null,
            "grid_column": null,
            "overflow_y": null,
            "overflow_x": null,
            "grid_auto_flow": null,
            "grid_area": null,
            "grid_template_columns": null,
            "flex": null,
            "_model_name": "LayoutModel",
            "justify_items": null,
            "grid_row": null,
            "max_height": null,
            "align_content": null,
            "visibility": null,
            "align_self": null,
            "height": null,
            "min_height": null,
            "padding": null,
            "grid_auto_rows": null,
            "grid_gap": null,
            "max_width": null,
            "order": null,
            "_view_module_version": "1.2.0",
            "grid_template_areas": null,
            "object_position": null,
            "object_fit": null,
            "grid_auto_columns": null,
            "margin": null,
            "display": null,
            "left": null
          }
        },
        "9dca446319e5455aad11c2cc17db386c": {
          "model_module": "@jupyter-widgets/controls",
          "model_name": "DescriptionStyleModel",
          "model_module_version": "1.5.0",
          "state": {
            "_view_name": "StyleView",
            "_model_name": "DescriptionStyleModel",
            "description_width": "",
            "_view_module": "@jupyter-widgets/base",
            "_model_module_version": "1.5.0",
            "_view_count": null,
            "_view_module_version": "1.2.0",
            "_model_module": "@jupyter-widgets/controls"
          }
        },
        "126f876f630d469497bfe97bfe6fc1d5": {
          "model_module": "@jupyter-widgets/base",
          "model_name": "LayoutModel",
          "model_module_version": "1.2.0",
          "state": {
            "_view_name": "LayoutView",
            "grid_template_rows": null,
            "right": null,
            "justify_content": null,
            "_view_module": "@jupyter-widgets/base",
            "overflow": null,
            "_model_module_version": "1.2.0",
            "_view_count": null,
            "flex_flow": null,
            "width": null,
            "min_width": null,
            "border": null,
            "align_items": null,
            "bottom": null,
            "_model_module": "@jupyter-widgets/base",
            "top": null,
            "grid_column": null,
            "overflow_y": null,
            "overflow_x": null,
            "grid_auto_flow": null,
            "grid_area": null,
            "grid_template_columns": null,
            "flex": null,
            "_model_name": "LayoutModel",
            "justify_items": null,
            "grid_row": null,
            "max_height": null,
            "align_content": null,
            "visibility": null,
            "align_self": null,
            "height": null,
            "min_height": null,
            "padding": null,
            "grid_auto_rows": null,
            "grid_gap": null,
            "max_width": null,
            "order": null,
            "_view_module_version": "1.2.0",
            "grid_template_areas": null,
            "object_position": null,
            "object_fit": null,
            "grid_auto_columns": null,
            "margin": null,
            "display": null,
            "left": null
          }
        }
      }
    }
  },
  "cells": [
    {
      "cell_type": "code",
      "metadata": {
        "colab": {
          "base_uri": "https://localhost:8080/"
        },
        "id": "iSOQu8mKrUCU",
        "outputId": "b082fcf4-859b-45b4-92f8-1db3a28ca97f"
      },
      "source": [
        "!git clone https://github.com/ruthenian8/from-numpy-import-Neural-Network.git ./libs;"
      ],
      "execution_count": 1,
      "outputs": [
        {
          "output_type": "stream",
          "name": "stdout",
          "text": [
            "Cloning into './libs'...\n",
            "remote: Enumerating objects: 35, done.\u001b[K\n",
            "remote: Counting objects: 100% (35/35), done.\u001b[K\n",
            "remote: Compressing objects: 100% (32/32), done.\u001b[K\n",
            "remote: Total 35 (delta 13), reused 16 (delta 2), pack-reused 0\u001b[K\n",
            "Unpacking objects: 100% (35/35), done.\n"
          ]
        }
      ]
    },
    {
      "cell_type": "code",
      "metadata": {
        "id": "kHQR2KmNs0QV"
      },
      "source": [
        "!cp -r libs/our_library ."
      ],
      "execution_count": 2,
      "outputs": []
    },
    {
      "cell_type": "code",
      "metadata": {
        "id": "vyDWnG7-q9Of"
      },
      "source": [
        "!pip install -r libs/requirements.txt"
      ],
      "execution_count": null,
      "outputs": []
    },
    {
      "cell_type": "code",
      "metadata": {
        "id": "XOKVcKx1q4O_"
      },
      "source": [
        "import numpy as np\n",
        "\n",
        "from sklearn.metrics import classification_report\n",
        "\n",
        "import torch\n",
        "from torch.utils.data import DataLoader\n",
        "from torchvision.datasets import MNIST\n",
        "from torchvision import transforms\n",
        "\n",
        "import matplotlib.pyplot as plt\n",
        "\n",
        "from tqdm import tqdm\n",
        "\n",
        "from sklearn.metrics import accuracy_score\n",
        "\n",
        "import time"
      ],
      "execution_count": 1,
      "outputs": []
    },
    {
      "cell_type": "markdown",
      "metadata": {
        "id": "CJvalEQ5q4PC"
      },
      "source": [
        "# Домашка №1\n",
        "# Усложненная\n",
        "### Эта домашка нужна для лучшего понимания, но она будет сложнее из-за использования классов и, возможно, пока непривычной форме с классами.\n",
        "Абстракции в этой домашке будут очень полезны для понимания того, что происходит в торче. Эта домашка прокачает вас гораздо сильнее, но и выполнить ее будет труднее. Вам нужно будет описать несколько слоев: `Linear`, `ReLU`, `BCELoss`.  Реализация `Sigmoid` уже есть в `our_library.layers`. Реализовав слои выше вы сможете сделать n-слойную нейронную сеть с любым количеством слоев. Это получается за счет того, что вы описали всю необходимую логику:\n",
        "- Как нужно обработать входные данные и передать их дальше;\n",
        "- Принять градиент с последующего слоя, сделать `backward` для текущего слоя и передать градиент предыдущему слою;\n",
        "- Как обновить веса, если в слоев есть обучаемые веса.\n",
        "\n",
        "Присылайте свои недоделанные сложные домашки, пусть они не пойдут совсем в стол. Я или ассистенты посмотрят, мы обсудим и доделаем.  \n",
        "Поверьте, эта домашка стоит того, чтобы ее сделать!"
      ]
    },
    {
      "cell_type": "markdown",
      "metadata": {
        "id": "nU2_ZevGq4PF"
      },
      "source": [
        "# Датасет\n",
        "Мы его просто загрузим и здесь пока будет какая-то торчовая магия, которую мы разберем на следующем занятии"
      ]
    },
    {
      "cell_type": "markdown",
      "metadata": {
        "id": "oV17Vt4cq4PG"
      },
      "source": [
        "### Некоторые магические трансформации, о которых пока не стоит заморачиваться\n",
        "1. Перевод картинки в тензор\n",
        "1. Нормализация картинки"
      ]
    },
    {
      "cell_type": "code",
      "metadata": {
        "id": "97B9YtSeq4PH"
      },
      "source": [
        "transform = transforms.Compose([\n",
        "    transforms.ToTensor(),\n",
        "    transforms.Normalize((0.1307,), (0.3081,))\n",
        "])"
      ],
      "execution_count": 2,
      "outputs": []
    },
    {
      "cell_type": "markdown",
      "metadata": {
        "id": "7uQtJi5Mq4PI"
      },
      "source": [
        "## Загружаем датасет\n",
        "Конкретно эта часть кода понадобится нам один раз за курс и будет только в этой домашке"
      ]
    },
    {
      "cell_type": "code",
      "metadata": {
        "colab": {
          "base_uri": "https://localhost:8080/",
          "height": 477,
          "referenced_widgets": [
            "911483f7399f43c4952e1a5e814b39c9",
            "da3a2cef4f2b428e9d1b41b767950fda",
            "0269d2af37f64e60baece77ade1e4551",
            "3879d0fc82484e7fbd4ed872de69cb58",
            "b280e40a79ad4ad7860901ffaa90493c",
            "f40fc500bbe84c70af20a5289818950a",
            "b788c4baa4d640f29212c40b2e5e90b4",
            "75ee611c008c4e7fbea4b13e96ccf5a3",
            "d90051d6fa534ffaa5fb7afa8c081629",
            "9dca446319e5455aad11c2cc17db386c",
            "126f876f630d469497bfe97bfe6fc1d5"
          ]
        },
        "id": "eBfMavU8q4PJ",
        "outputId": "e106bfb9-9c19-44af-fa55-c11112fdc33e"
      },
      "source": [
        "train_dataset = MNIST('.', train=True, download=True, transform=transform)\n",
        "test_dataset = MNIST('.', train=False, transform=transform)"
      ],
      "execution_count": 4,
      "outputs": [
        {
          "output_type": "stream",
          "name": "stdout",
          "text": [
            "Downloading http://yann.lecun.com/exdb/mnist/train-images-idx3-ubyte.gz\n",
            "Downloading http://yann.lecun.com/exdb/mnist/train-images-idx3-ubyte.gz to ./MNIST/raw/train-images-idx3-ubyte.gz\n"
          ]
        },
        {
          "output_type": "display_data",
          "data": {
            "application/vnd.jupyter.widget-view+json": {
              "model_id": "911483f7399f43c4952e1a5e814b39c9",
              "version_minor": 0,
              "version_major": 2
            },
            "text/plain": [
              "  0%|          | 0/9912422 [00:00<?, ?it/s]"
            ]
          },
          "metadata": {}
        },
        {
          "output_type": "stream",
          "name": "stdout",
          "text": [
            "Extracting ./MNIST/raw/train-images-idx3-ubyte.gz to ./MNIST/raw\n",
            "\n",
            "Downloading http://yann.lecun.com/exdb/mnist/train-labels-idx1-ubyte.gz\n",
            "Downloading http://yann.lecun.com/exdb/mnist/train-labels-idx1-ubyte.gz to ./MNIST/raw/train-labels-idx1-ubyte.gz\n"
          ]
        },
        {
          "output_type": "display_data",
          "data": {
            "application/vnd.jupyter.widget-view+json": {
              "model_id": "c0fd6a06c0ef476d8772f22137bef1bc",
              "version_minor": 0,
              "version_major": 2
            },
            "text/plain": [
              "  0%|          | 0/28881 [00:00<?, ?it/s]"
            ]
          },
          "metadata": {}
        },
        {
          "output_type": "stream",
          "name": "stdout",
          "text": [
            "Extracting ./MNIST/raw/train-labels-idx1-ubyte.gz to ./MNIST/raw\n",
            "\n",
            "Downloading http://yann.lecun.com/exdb/mnist/t10k-images-idx3-ubyte.gz\n",
            "Downloading http://yann.lecun.com/exdb/mnist/t10k-images-idx3-ubyte.gz to ./MNIST/raw/t10k-images-idx3-ubyte.gz\n"
          ]
        },
        {
          "output_type": "display_data",
          "data": {
            "application/vnd.jupyter.widget-view+json": {
              "model_id": "c8534be188a34acc9cccd9ba2ab9e8e5",
              "version_minor": 0,
              "version_major": 2
            },
            "text/plain": [
              "  0%|          | 0/1648877 [00:00<?, ?it/s]"
            ]
          },
          "metadata": {}
        },
        {
          "output_type": "stream",
          "name": "stdout",
          "text": [
            "Extracting ./MNIST/raw/t10k-images-idx3-ubyte.gz to ./MNIST/raw\n",
            "\n",
            "Downloading http://yann.lecun.com/exdb/mnist/t10k-labels-idx1-ubyte.gz\n",
            "Downloading http://yann.lecun.com/exdb/mnist/t10k-labels-idx1-ubyte.gz to ./MNIST/raw/t10k-labels-idx1-ubyte.gz\n"
          ]
        },
        {
          "output_type": "display_data",
          "data": {
            "application/vnd.jupyter.widget-view+json": {
              "model_id": "6e213261636745c99009e320622e3512",
              "version_minor": 0,
              "version_major": 2
            },
            "text/plain": [
              "  0%|          | 0/4542 [00:00<?, ?it/s]"
            ]
          },
          "metadata": {}
        },
        {
          "output_type": "stream",
          "name": "stdout",
          "text": [
            "Extracting ./MNIST/raw/t10k-labels-idx1-ubyte.gz to ./MNIST/raw\n",
            "\n"
          ]
        },
        {
          "output_type": "stream",
          "name": "stderr",
          "text": [
            "/usr/local/lib/python3.7/dist-packages/torchvision/datasets/mnist.py:498: UserWarning: The given NumPy array is not writeable, and PyTorch does not support non-writeable tensors. This means you can write to the underlying (supposedly non-writeable) NumPy array using the tensor. You may want to copy the array to protect its data or make it writeable before converting it to a tensor. This type of warning will be suppressed for the rest of this program. (Triggered internally at  ../torch/csrc/utils/tensor_numpy.cpp:180.)\n",
            "  return torch.from_numpy(parsed.astype(m[2], copy=False)).view(*s)\n"
          ]
        }
      ]
    },
    {
      "cell_type": "markdown",
      "metadata": {
        "id": "vLyKTDJJq4PL"
      },
      "source": [
        "## Переводим его в два класса\n",
        "Это нужно для упрощения задачи до бинарной классификации. В этой домашке мы будем отличать две цифры: 1 и 7."
      ]
    },
    {
      "cell_type": "code",
      "metadata": {
        "id": "sqC9kxM1q4PM"
      },
      "source": [
        "train_dataset.data = train_dataset.data[(train_dataset.targets == 3) | (train_dataset.targets == 7)]\n",
        "train_dataset.targets = train_dataset.targets[(train_dataset.targets == 3) | (train_dataset.targets == 7)]\n",
        "\n",
        "test_dataset.data = test_dataset.data[(test_dataset.targets == 3) | (test_dataset.targets == 7)]\n",
        "test_dataset.targets = test_dataset.targets[(test_dataset.targets == 3) | (test_dataset.targets == 7)]\n",
        "\n",
        "train_dataset.targets = (train_dataset.targets == 7).long()\n",
        "test_dataset.targets = (test_dataset.targets == 7).long()"
      ],
      "execution_count": 5,
      "outputs": []
    },
    {
      "cell_type": "markdown",
      "metadata": {
        "id": "vejI6zzoq4PN"
      },
      "source": [
        "## Оборачиваем в итератор данных\n",
        "Далее в курсе мы поговорим о том, что это такое более подробно, а дальше в этой тетрадке будет несколько полезных деталей.  \n",
        "Пока что будет достаточно понимать, что мы обернули наши данные в некоторую абстракцию, итерация по которой дает нам батчи данных из нашего датасета.  "
      ]
    },
    {
      "cell_type": "code",
      "metadata": {
        "id": "yBYFi9h6q4PO"
      },
      "source": [
        "train_loader = DataLoader(train_dataset, batch_size=128, shuffle=True)\n",
        "test_loader = DataLoader(test_dataset, batch_size=128, shuffle=False)"
      ],
      "execution_count": 6,
      "outputs": []
    },
    {
      "cell_type": "markdown",
      "metadata": {
        "id": "_iB8Rl4fq4PP"
      },
      "source": [
        "## Порисуем данные\n",
        "\n",
        "- классу 0 соответствует цифра 3\n",
        "- классу 1 соответствует цифра 7  \n",
        "\n",
        "Выбрал эти цифры, потому что на них хуже всего метрики"
      ]
    },
    {
      "cell_type": "code",
      "metadata": {
        "colab": {
          "base_uri": "https://localhost:8080/",
          "height": 420
        },
        "id": "JHultUf8q4PP",
        "outputId": "5b4083f8-32f3-48e4-e579-92051695ec14"
      },
      "source": [
        "X, y = next(iter(train_loader))\n",
        "X = X.numpy()\n",
        "y = y.numpy()\n",
        "\n",
        "plt.figure(figsize=(6, 7))\n",
        "for i in range(25):\n",
        "    plt.subplot(5, 5, i+1)\n",
        "    plt.imshow(X[i].reshape(28, 28), cmap=plt.cm.Greys_r)\n",
        "    plt.title(y[i])\n",
        "    plt.axis('off')"
      ],
      "execution_count": 7,
      "outputs": [
        {
          "output_type": "display_data",
          "data": {
            "image/png": "[encoded data removed]",
            "text/plain": [
              "<Figure size 432x504 with 25 Axes>"
            ]
          },
          "metadata": {
            "needs_background": "light"
          }
        }
      ]
    },
    {
      "cell_type": "markdown",
      "metadata": {
        "id": "iPY3gtWdq4PQ"
      },
      "source": [
        "# Итерация по датасету\n",
        "- x - батч с данными\n",
        "- y - батч с таргетами к этим данным"
      ]
    },
    {
      "cell_type": "code",
      "metadata": {
        "id": "lNjg2ntKq4PQ"
      },
      "source": [
        "for x, y in train_loader:\n",
        "    break"
      ],
      "execution_count": 8,
      "outputs": []
    },
    {
      "cell_type": "markdown",
      "metadata": {
        "id": "p6pY3-MUq4PQ"
      },
      "source": [
        "### train_loader это итератор, при проходе по которому будут выдаваться батчи данных"
      ]
    },
    {
      "cell_type": "markdown",
      "metadata": {
        "id": "49syZVM0q4PR"
      },
      "source": [
        "## Размерность x\n",
        "- 128 - размер батча\n",
        "- 1 - количество каналов, у нас чернобелые картинки, поэтому канал 1\n",
        "- 28 - количество пикселей в длину\n",
        "- 28 - количество пикселей в ширину"
      ]
    },
    {
      "cell_type": "code",
      "metadata": {
        "colab": {
          "base_uri": "https://localhost:8080/"
        },
        "id": "EsrEMB7Aq4PR",
        "outputId": "e51508a2-1302-4851-b623-62a013a9a993"
      },
      "source": [
        "x.shape"
      ],
      "execution_count": 12,
      "outputs": [
        {
          "output_type": "execute_result",
          "data": {
            "text/plain": [
              "torch.Size([128, 1, 28, 28])"
            ]
          },
          "metadata": {},
          "execution_count": 12
        }
      ]
    },
    {
      "cell_type": "code",
      "metadata": {
        "colab": {
          "base_uri": "https://localhost:8080/"
        },
        "id": "68HMd8zbq4PR",
        "outputId": "c6ebf522-4e81-4925-c7ea-c25cf32c57b4"
      },
      "source": [
        "x"
      ],
      "execution_count": 13,
      "outputs": [
        {
          "output_type": "execute_result",
          "data": {
            "text/plain": [
              "tensor([[[[-0.4242, -0.4242, -0.4242,  ..., -0.4242, -0.4242, -0.4242],\n",
              "          [-0.4242, -0.4242, -0.4242,  ..., -0.4242, -0.4242, -0.4242],\n",
              "          [-0.4242, -0.4242, -0.4242,  ..., -0.4242, -0.4242, -0.4242],\n",
              "          ...,\n",
              "          [-0.4242, -0.4242, -0.4242,  ..., -0.4242, -0.4242, -0.4242],\n",
              "          [-0.4242, -0.4242, -0.4242,  ..., -0.4242, -0.4242, -0.4242],\n",
              "          [-0.4242, -0.4242, -0.4242,  ..., -0.4242, -0.4242, -0.4242]]],\n",
              "\n",
              "\n",
              "        [[[-0.4242, -0.4242, -0.4242,  ..., -0.4242, -0.4242, -0.4242],\n",
              "          [-0.4242, -0.4242, -0.4242,  ..., -0.4242, -0.4242, -0.4242],\n",
              "          [-0.4242, -0.4242, -0.4242,  ..., -0.4242, -0.4242, -0.4242],\n",
              "          ...,\n",
              "          [-0.4242, -0.4242, -0.4242,  ..., -0.4242, -0.4242, -0.4242],\n",
              "          [-0.4242, -0.4242, -0.4242,  ..., -0.4242, -0.4242, -0.4242],\n",
              "          [-0.4242, -0.4242, -0.4242,  ..., -0.4242, -0.4242, -0.4242]]],\n",
              "\n",
              "\n",
              "        [[[-0.4242, -0.4242, -0.4242,  ..., -0.4242, -0.4242, -0.4242],\n",
              "          [-0.4242, -0.4242, -0.4242,  ..., -0.4242, -0.4242, -0.4242],\n",
              "          [-0.4242, -0.4242, -0.4242,  ..., -0.4242, -0.4242, -0.4242],\n",
              "          ...,\n",
              "          [-0.4242, -0.4242, -0.4242,  ..., -0.4242, -0.4242, -0.4242],\n",
              "          [-0.4242, -0.4242, -0.4242,  ..., -0.4242, -0.4242, -0.4242],\n",
              "          [-0.4242, -0.4242, -0.4242,  ..., -0.4242, -0.4242, -0.4242]]],\n",
              "\n",
              "\n",
              "        ...,\n",
              "\n",
              "\n",
              "        [[[-0.4242, -0.4242, -0.4242,  ..., -0.4242, -0.4242, -0.4242],\n",
              "          [-0.4242, -0.4242, -0.4242,  ..., -0.4242, -0.4242, -0.4242],\n",
              "          [-0.4242, -0.4242, -0.4242,  ..., -0.4242, -0.4242, -0.4242],\n",
              "          ...,\n",
              "          [-0.4242, -0.4242, -0.4242,  ..., -0.4242, -0.4242, -0.4242],\n",
              "          [-0.4242, -0.4242, -0.4242,  ..., -0.4242, -0.4242, -0.4242],\n",
              "          [-0.4242, -0.4242, -0.4242,  ..., -0.4242, -0.4242, -0.4242]]],\n",
              "\n",
              "\n",
              "        [[[-0.4242, -0.4242, -0.4242,  ..., -0.4242, -0.4242, -0.4242],\n",
              "          [-0.4242, -0.4242, -0.4242,  ..., -0.4242, -0.4242, -0.4242],\n",
              "          [-0.4242, -0.4242, -0.4242,  ..., -0.4242, -0.4242, -0.4242],\n",
              "          ...,\n",
              "          [-0.4242, -0.4242, -0.4242,  ..., -0.4242, -0.4242, -0.4242],\n",
              "          [-0.4242, -0.4242, -0.4242,  ..., -0.4242, -0.4242, -0.4242],\n",
              "          [-0.4242, -0.4242, -0.4242,  ..., -0.4242, -0.4242, -0.4242]]],\n",
              "\n",
              "\n",
              "        [[[-0.4242, -0.4242, -0.4242,  ..., -0.4242, -0.4242, -0.4242],\n",
              "          [-0.4242, -0.4242, -0.4242,  ..., -0.4242, -0.4242, -0.4242],\n",
              "          [-0.4242, -0.4242, -0.4242,  ..., -0.4242, -0.4242, -0.4242],\n",
              "          ...,\n",
              "          [-0.4242, -0.4242, -0.4242,  ..., -0.4242, -0.4242, -0.4242],\n",
              "          [-0.4242, -0.4242, -0.4242,  ..., -0.4242, -0.4242, -0.4242],\n",
              "          [-0.4242, -0.4242, -0.4242,  ..., -0.4242, -0.4242, -0.4242]]]])"
            ]
          },
          "metadata": {},
          "execution_count": 13
        }
      ]
    },
    {
      "cell_type": "markdown",
      "metadata": {
        "id": "XOpVmfW_q4PS"
      },
      "source": [
        "## Просто выпрямим нашу матрицу в один вектор\n",
        "### То есть каждая фича в векторе это значение пикселя\n",
        "### Для нашей игрушечной задачи этого будет достаточно"
      ]
    },
    {
      "cell_type": "code",
      "metadata": {
        "colab": {
          "base_uri": "https://localhost:8080/"
        },
        "id": "SQfCBhonq4PS",
        "outputId": "36b94f99-f1d8-4ee1-ec35-acb1a27f4906"
      },
      "source": [
        "x.view(x.shape[0], -1).numpy().shape"
      ],
      "execution_count": 9,
      "outputs": [
        {
          "output_type": "execute_result",
          "data": {
            "text/plain": [
              "(128, 784)"
            ]
          },
          "metadata": {},
          "execution_count": 9
        }
      ]
    },
    {
      "cell_type": "markdown",
      "metadata": {
        "id": "GnFwRihPq4PS"
      },
      "source": [
        "### x.numpy()\n",
        "Это перевод торчового тензора (некоторая абстракция, о которой мы будем говорить позже на курсе) в numpy массив"
      ]
    },
    {
      "cell_type": "code",
      "metadata": {
        "id": "FabHJfm8q4PT"
      },
      "source": [
        "for x, y in train_loader:\n",
        "    x = x.view(x.shape[0], -1).numpy()\n",
        "    y = y.numpy()\n",
        "    break"
      ],
      "execution_count": 10,
      "outputs": []
    },
    {
      "cell_type": "code",
      "metadata": {
        "id": "l8pgShNqq4PT",
        "outputId": "006b1d46-3421-4e37-8508-5f625ca3891f"
      },
      "source": [
        "x"
      ],
      "execution_count": null,
      "outputs": [
        {
          "data": {
            "text/plain": [
              "array([[-0.42421296, -0.42421296, -0.42421296, ..., -0.42421296,\n",
              "        -0.42421296, -0.42421296],\n",
              "       [-0.42421296, -0.42421296, -0.42421296, ..., -0.42421296,\n",
              "        -0.42421296, -0.42421296],\n",
              "       [-0.42421296, -0.42421296, -0.42421296, ..., -0.42421296,\n",
              "        -0.42421296, -0.42421296],\n",
              "       ...,\n",
              "       [-0.42421296, -0.42421296, -0.42421296, ..., -0.42421296,\n",
              "        -0.42421296, -0.42421296],\n",
              "       [-0.42421296, -0.42421296, -0.42421296, ..., -0.42421296,\n",
              "        -0.42421296, -0.42421296],\n",
              "       [-0.42421296, -0.42421296, -0.42421296, ..., -0.42421296,\n",
              "        -0.42421296, -0.42421296]], dtype=float32)"
            ]
          },
          "execution_count": 12,
          "metadata": {},
          "output_type": "execute_result"
        }
      ]
    },
    {
      "cell_type": "markdown",
      "metadata": {
        "id": "XLhxe0b_q4PT"
      },
      "source": [
        "### Размерность\n",
        "- количество примеров в батче\n",
        "- количество фичей"
      ]
    },
    {
      "cell_type": "code",
      "metadata": {
        "colab": {
          "base_uri": "https://localhost:8080/"
        },
        "id": "Qh2HsDVQq4PT",
        "outputId": "ee27ba0f-43ca-4a7f-965e-e079dea4e2b0"
      },
      "source": [
        "x.shape"
      ],
      "execution_count": 16,
      "outputs": [
        {
          "output_type": "execute_result",
          "data": {
            "text/plain": [
              "(128, 784)"
            ]
          },
          "metadata": {},
          "execution_count": 16
        }
      ]
    },
    {
      "cell_type": "markdown",
      "metadata": {
        "id": "r34U4A6Yq4PU"
      },
      "source": [
        "# Таргеты\n",
        "- классу 0 соответствует цифра 3\n",
        "- классу 1 соответствует цифра 7"
      ]
    },
    {
      "cell_type": "code",
      "metadata": {
        "id": "Ze_C0H18q4PU",
        "outputId": "39abc38b-6244-4ff6-b627-359cc2c68412"
      },
      "source": [
        "y"
      ],
      "execution_count": null,
      "outputs": [
        {
          "data": {
            "text/plain": [
              "array([1, 1, 0, 0, 0, 1, 1, 0, 0, 0, 1, 0, 1, 1, 0, 0, 0, 1, 1, 0, 0, 1,\n",
              "       1, 1, 0, 1, 1, 1, 0, 0, 1, 1, 1, 1, 1, 1, 0, 1, 0, 0, 1, 1, 1, 0,\n",
              "       0, 1, 1, 0, 1, 1, 0, 0, 1, 0, 0, 1, 0, 0, 1, 1, 1, 1, 1, 0, 1, 1,\n",
              "       1, 0, 1, 1, 0, 1, 0, 1, 1, 1, 1, 1, 1, 1, 1, 1, 1, 1, 0, 1, 1, 1,\n",
              "       1, 1, 1, 0, 1, 1, 0, 1, 1, 0, 0, 0, 0, 0, 0, 1, 1, 0, 0, 1, 1, 0,\n",
              "       0, 1, 0, 1, 1, 1, 1, 0, 1, 0, 0, 1, 1, 0, 0, 0, 1, 1])"
            ]
          },
          "execution_count": 14,
          "metadata": {},
          "output_type": "execute_result"
        }
      ]
    },
    {
      "cell_type": "markdown",
      "metadata": {
        "id": "LMNASz0lq4PU"
      },
      "source": [
        "# Итерация по эпохам"
      ]
    },
    {
      "cell_type": "code",
      "metadata": {
        "colab": {
          "base_uri": "https://localhost:8080/"
        },
        "id": "4Iwlvv3oq4PU",
        "outputId": "a69f53dc-b579-430c-ff96-95c652ed3b86"
      },
      "source": [
        "# количество эпох - полных проходов по датасету\n",
        "epochs = 3\n",
        "\n",
        "for n_epoch in range(epochs):\n",
        "    \n",
        "    dataset_passed_samples = 0\n",
        "    \n",
        "    for x, y in train_loader:\n",
        "        \n",
        "        # вот здесь мы могли бы как-то манипулировать с данными\n",
        "        # например, учить, но пока этого делать не будет\n",
        "        # только демонстрация\n",
        "        \n",
        "        time.sleep(0.01)\n",
        "        \n",
        "        dataset_passed_samples += x.shape[0]\n",
        "        \n",
        "        dataset_passed_percent = dataset_passed_samples * 100 / train_loader.dataset.data.shape[0]\n",
        "        \n",
        "        print(f'Эпоха - {n_epoch + 1}, прошли - {dataset_passed_percent:.2f} % датасета', end='\\r')\n",
        "        \n",
        "    print('\\r')"
      ],
      "execution_count": 18,
      "outputs": [
        {
          "output_type": "stream",
          "name": "stdout",
          "text": [
            "Эпоха - 1, прошли - 100.00 % датасета\n",
            "Эпоха - 2, прошли - 100.00 % датасета\n",
            "Эпоха - 3, прошли - 100.00 % датасета\n"
          ]
        }
      ]
    },
    {
      "cell_type": "markdown",
      "metadata": {
        "id": "-ge-dnVhq4PV"
      },
      "source": [
        "# Небольшие пояснения по numpy"
      ]
    },
    {
      "cell_type": "code",
      "metadata": {
        "colab": {
          "base_uri": "https://localhost:8080/"
        },
        "id": "JXJBPV4Lq4PV",
        "outputId": "702e139c-df57-403d-e1a3-51b28ce63317"
      },
      "source": [
        "# таким образом мы создаем матрицу 64 на 512 с рандомными значениями\n",
        "x = np.random.rand(64, 512)\n",
        "x"
      ],
      "execution_count": 21,
      "outputs": [
        {
          "output_type": "execute_result",
          "data": {
            "text/plain": [
              "array([[0.37846012, 0.64417364, 0.69744862, ..., 0.13058401, 0.43481787,\n",
              "        0.379522  ],\n",
              "       [0.1813972 , 0.44467892, 0.01656831, ..., 0.2510146 , 0.19282195,\n",
              "        0.68315399],\n",
              "       [0.52621401, 0.87372568, 0.8923658 , ..., 0.09673485, 0.46318319,\n",
              "        0.53828531],\n",
              "       ...,\n",
              "       [0.40442187, 0.14899443, 0.08700152, ..., 0.30977443, 0.12612339,\n",
              "        0.7683909 ],\n",
              "       [0.88952276, 0.07256167, 0.03199743, ..., 0.03484155, 0.93522924,\n",
              "        0.32811458],\n",
              "       [0.39243644, 0.20847713, 0.54492239, ..., 0.82878945, 0.8466631 ,\n",
              "        0.27693667]])"
            ]
          },
          "metadata": {},
          "execution_count": 21
        }
      ]
    },
    {
      "cell_type": "code",
      "metadata": {
        "colab": {
          "base_uri": "https://localhost:8080/"
        },
        "id": "zfouoSADq4PV",
        "outputId": "ff73d240-052f-47af-8e2e-93fb5d8e0fa4"
      },
      "source": [
        "# большинство функций применяются к каждому элементу массива\n",
        "# здесь мы каждый элемент массива возвели в квадрат и прибавили к получившемуся значению логарифм элемента матрицы \n",
        "x ** 2 + np.log(x)"
      ],
      "execution_count": 22,
      "outputs": [
        {
          "output_type": "execute_result",
          "data": {
            "text/plain": [
              "array([[-0.82841251, -0.02482728,  0.12610816, ..., -2.0186863 ,\n",
              "        -0.64376144, -0.82480578],\n",
              "       [-1.67416121, -0.61266343, -4.09998877, ..., -1.31923586,\n",
              "        -1.60880774,  0.08566439],\n",
              "       [-0.36514611,  0.62840776,  0.68243758, ..., -2.32642393,\n",
              "        -0.55509397, -0.32961546],\n",
              "       ...,\n",
              "       [-0.74173965, -1.88164701, -2.43426043, ..., -1.07595069,\n",
              "        -2.05458748,  0.32696789],\n",
              "       [ 0.67418056, -2.61805328, -3.44107583, ..., -3.35573066,\n",
              "         0.80769013, -1.00673321],\n",
              "       [-0.78137434, -1.52446324, -0.31017149, ...,  0.49910282,\n",
              "         0.55038599, -1.20727249]])"
            ]
          },
          "metadata": {},
          "execution_count": 22
        }
      ]
    },
    {
      "cell_type": "code",
      "metadata": {
        "id": "A_C5WSjzq4PW"
      },
      "source": [
        "y = np.random.rand(512, 1024)\n",
        "# скалярное произведение\n",
        "res = np.dot(x, y)"
      ],
      "execution_count": 23,
      "outputs": []
    },
    {
      "cell_type": "code",
      "metadata": {
        "colab": {
          "base_uri": "https://localhost:8080/"
        },
        "id": "VlDw21W5q4PW",
        "outputId": "2c8ead50-2e87-42f1-9f1f-c816cef315a6"
      },
      "source": [
        "res.shape"
      ],
      "execution_count": 45,
      "outputs": [
        {
          "output_type": "execute_result",
          "data": {
            "text/plain": [
              "(64, 1024)"
            ]
          },
          "metadata": {},
          "execution_count": 45
        }
      ]
    },
    {
      "cell_type": "code",
      "metadata": {
        "colab": {
          "base_uri": "https://localhost:8080/"
        },
        "id": "XWRiXLCeq4PW",
        "outputId": "dc60a24c-cfef-4d2c-a1a8-c6edca5baddd"
      },
      "source": [
        "res.shape == (x.shape[0], y.shape[1])"
      ],
      "execution_count": 25,
      "outputs": [
        {
          "output_type": "execute_result",
          "data": {
            "text/plain": [
              "True"
            ]
          },
          "metadata": {},
          "execution_count": 25
        }
      ]
    },
    {
      "cell_type": "markdown",
      "metadata": {
        "id": "4pbINbzrq4PX"
      },
      "source": [
        "# Импортируем нашу библиотеку\n",
        "В ней реализованы некоторые полезные методы, в модуле `layers` есть реализация сигмоиды. Остальное вам смотреть необязательно, это некоторые дополнения, упрощающие вам жизнь."
      ]
    },
    {
      "cell_type": "code",
      "metadata": {
        "id": "ImHPgSkLq4PX"
      },
      "source": [
        "from our_library import layers, wrapper, tools"
      ],
      "execution_count": 11,
      "outputs": []
    },
    {
      "cell_type": "markdown",
      "metadata": {
        "id": "hQfi0pDnq4PX"
      },
      "source": [
        "## Реализуйте слои:\n",
        "- Linear - линейная трансформация (не забудьте, что у нас в этом слое как раз есть обучаемые параметры)\n",
        "- ReLU\n",
        "- BCELoss - Binary Cross Entropy\n",
        "\n",
        "\n",
        "## Вы можете реализовать как здесь, так и в файла layers\n",
        "\n",
        "- TIP: np.expand_dims(y, 1) для BCE, так как BCE на вход принимает просто вектор размерностью (батч сайз, 1)\n",
        "\n",
        "## Также внутри layers есть код для Negative Log-Likelihood (сразу с софтмаксом) для примера"
      ]
    },
    {
      "cell_type": "markdown",
      "metadata": {
        "id": "cB7s3lIEq4PY"
      },
      "source": [
        "# Пример c сигмоидой\n",
        "В `our_library.layers` также это есть"
      ]
    },
    {
      "cell_type": "code",
      "metadata": {
        "id": "cVRRp75Sq4PY"
      },
      "source": [
        "class Sigmoid:\n",
        "\n",
        "    def __init__(self):\n",
        "\n",
        "        self._sigmoid_result = None\n",
        "\n",
        "    def forward(self, x):\n",
        "\n",
        "        self._sigmoid_result = 1 / (1 + np.exp(-x))\n",
        "\n",
        "        return self._sigmoid_result\n",
        "\n",
        "    def backward(self, grad):\n",
        "        \"\"\"\n",
        "        :grad: градиент от предыдущего слоя\n",
        "        :return: градиент для следующего слоя\n",
        "        \"\"\"\n",
        "\n",
        "        new_grad = self._sigmoid_result * (1 - self._sigmoid_result) * grad\n",
        "\n",
        "        return new_grad\n",
        "\n",
        "    def step(self, learning_step):\n",
        "\n",
        "        pass"
      ],
      "execution_count": 12,
      "outputs": []
    },
    {
      "cell_type": "markdown",
      "metadata": {
        "id": "q9forwxMq4PY"
      },
      "source": [
        "# Тестирование"
      ]
    },
    {
      "cell_type": "code",
      "metadata": {
        "id": "4K_5UHPUq4PY"
      },
      "source": [
        "x = np.array([[0.91551091, 0.15073826, 0.77137556, 0.59352491],\n",
        "              [0.81126142, 0.1194849 , 0.29651178, 0.19066982]])\n",
        "\n",
        "correct_forward_result = np.array([[0.71412654, 0.53761337, 0.68381838, 0.64417351],\n",
        "                                   [0.69237824, 0.52983574, 0.57358957, 0.54752357]])\n",
        "\n",
        "correct_backward_result = np.array([[0.20414982, 0.24858523, 0.2162108 , 0.229214  ],\n",
        "                                    [0.21299061, 0.24910983, 0.24458457, 0.24774151]])"
      ],
      "execution_count": 13,
      "outputs": []
    },
    {
      "cell_type": "code",
      "metadata": {
        "id": "Dj_wRSe6q4PY"
      },
      "source": [
        "sigmoid_layer = Sigmoid()\n",
        "forward_result = sigmoid_layer.forward(x)\n",
        "backward_result = sigmoid_layer.backward(np.ones_like(x))"
      ],
      "execution_count": 14,
      "outputs": []
    },
    {
      "cell_type": "code",
      "metadata": {
        "id": "ttBUJOksq4PZ"
      },
      "source": [
        "# значения должны быть близкими\n",
        "assert np.allclose(correct_forward_result, forward_result)"
      ],
      "execution_count": 15,
      "outputs": []
    },
    {
      "cell_type": "code",
      "metadata": {
        "id": "JvfzDkXjq4PZ"
      },
      "source": [
        "# значения должны быть близкими\n",
        "assert np.allclose(correct_backward_result, backward_result)"
      ],
      "execution_count": 16,
      "outputs": []
    },
    {
      "cell_type": "markdown",
      "metadata": {
        "id": "FuDnpKvYq4PZ"
      },
      "source": [
        "# Линейный слой"
      ]
    },
    {
      "cell_type": "code",
      "metadata": {
        "id": "n_Rlzn5eq4PZ"
      },
      "source": [
        "class Linear:\n",
        "\n",
        "    def __init__(self, in_features, out_features):\n",
        "        \n",
        "        # инициализируем веса\n",
        "        self.weight = np.random.rand(in_features, out_features) * 0.01\n",
        "        self.bias = np.zeros(out_features,)\n",
        "        \n",
        "        # сохраняем градиент для весов\n",
        "        self._grad_weight = None\n",
        "        self._grad_bias = None\n",
        "        self._x = None\n",
        "\n",
        "    def forward(self, x):\n",
        "        self._x = x\n",
        "        return np.dot(x, self.weight) + self.bias\n",
        "\n",
        "    def backward(self, grad):\n",
        "        backward_result = np.dot(grad, np.transpose(self.weight))\n",
        "        self._grad_weight = np.dot(np.transpose(self._x), grad)\n",
        "        self._grad_bias = np.sum(grad, axis=0)\n",
        "        return backward_result\n",
        "\n",
        "    def step(self, learning_rate):\n",
        "        self.weight = self.weight - self._grad_weight * learning_rate\n",
        "        self.bias = self.bias - self._grad_bias * learning_rate"
      ],
      "execution_count": 17,
      "outputs": []
    },
    {
      "cell_type": "markdown",
      "metadata": {
        "id": "n3h8ce_cq4PZ"
      },
      "source": [
        "# Тестирование"
      ]
    },
    {
      "cell_type": "code",
      "metadata": {
        "id": "PQW2GzF_q4Pa"
      },
      "source": [
        "correct_forward_result = np.array([[0.01148086, 0.01477317, 0.00917651],\n",
        "                                   [0.00887036, 0.00972334, 0.00526646]])\n",
        "\n",
        "previous_grad = np.array([[0.01595814, 0.85148336, 0.9980065 ],\n",
        "                          [0.73044998, 0.18287682, 0.41246361]])\n",
        "\n",
        "correct_backward_result = np.array([[0.01089683, 0.00842654, 0.00822628, 0.00729307],\n",
        "                                    [0.00958704, 0.00833055, 0.00209236, 0.00543544]])\n",
        "\n",
        "correct_grad_weight = np.array([[0.60719574, 0.92790321, 1.24830165],\n",
        "                                [0.08968325, 0.15020214, 0.19972094],\n",
        "                                [0.22889674, 0.71103859, 0.89213814],\n",
        "                                [0.14874632, 0.54024567, 0.67098608]])\n",
        "\n",
        "correct_grad_bias = np.array([0.74640812, 1.03436018, 1.41047011])"
      ],
      "execution_count": 21,
      "outputs": []
    },
    {
      "cell_type": "code",
      "metadata": {
        "id": "WEUw2qKSq4Pa"
      },
      "source": [
        "linear = Linear(in_features=4, out_features=3)"
      ],
      "execution_count": 22,
      "outputs": []
    },
    {
      "cell_type": "code",
      "metadata": {
        "id": "WVuWGWqxq4Pa"
      },
      "source": [
        "# так как внутри слоя мы объвяляем наши веса рандомно (домножая на 0.01), то давайте присвоим им для теста конкретные значения\n",
        "\n",
        "linear.weight = np.array([[0.00879391, 0.0075844 , 0.00430709],\n",
        "                          [0.00884834, 0.00921104, 0.00044317],\n",
        "                          [0.00011441, 0.00822498, 0.00122346],\n",
        "                          [0.00338301, 0.0001627 , 0.00711473]])\n",
        "\n",
        "linear.bias = np.array([0., 0., 0.])"
      ],
      "execution_count": 23,
      "outputs": []
    },
    {
      "cell_type": "code",
      "metadata": {
        "id": "XurLb2oqq4Pa"
      },
      "source": [
        "forward = linear.forward(x)\n",
        "backward = linear.backward(previous_grad)"
      ],
      "execution_count": 24,
      "outputs": []
    },
    {
      "cell_type": "code",
      "metadata": {
        "id": "hu_zYRr-q4Pa"
      },
      "source": [
        "# значения должны быть близкими\n",
        "assert np.allclose(correct_forward_result, forward)"
      ],
      "execution_count": 25,
      "outputs": []
    },
    {
      "cell_type": "code",
      "metadata": {
        "id": "-YvHBuuRq4Pb"
      },
      "source": [
        "# значения должны быть близкими\n",
        "assert np.allclose(correct_backward_result, backward)"
      ],
      "execution_count": 26,
      "outputs": []
    },
    {
      "cell_type": "code",
      "metadata": {
        "id": "JtAzV-3zq4Pb"
      },
      "source": [
        "# значения должны быть близкими\n",
        "assert np.allclose(linear._grad_weight, correct_grad_weight)"
      ],
      "execution_count": 27,
      "outputs": []
    },
    {
      "cell_type": "code",
      "metadata": {
        "id": "yBby14u3q4Pb"
      },
      "source": [
        "# значения должны быть близкими\n",
        "assert np.allclose(linear._grad_bias, correct_grad_bias)"
      ],
      "execution_count": 28,
      "outputs": []
    },
    {
      "cell_type": "markdown",
      "metadata": {
        "id": "SpWPKYt5q4Pb"
      },
      "source": [
        "# ReLU"
      ]
    },
    {
      "cell_type": "code",
      "metadata": {
        "id": "U8MM9Md4q4Pb"
      },
      "source": [
        "class ReLU:\n",
        "\n",
        "    def __init__(self):\n",
        "        self._mask = None\n",
        "\n",
        "    def forward(self, x):\n",
        "        positive = x > 0\n",
        "        self._mask = positive.astype(np.int_)\n",
        "        return x * self._mask\n",
        "\n",
        "    def backward(self, prev_grad):\n",
        "        return prev_grad * self._mask\n",
        "\n",
        "    def step(self, learning_rate):\n",
        "        pass"
      ],
      "execution_count": 29,
      "outputs": []
    },
    {
      "cell_type": "markdown",
      "metadata": {
        "id": "85z_ig10q4Pc"
      },
      "source": [
        "# Тестирование"
      ]
    },
    {
      "cell_type": "code",
      "metadata": {
        "id": "lQCiO-Hjq4Pc"
      },
      "source": [
        "x = np.array([[ 0.86811233, -0.23718669, -0.18401917, -0.37591633],\n",
        "              [-0.40626018,  0.37746975, -0.46929233,  0.79067681]])\n",
        "\n",
        "correct_forward_result = np.array([[0.86811233, 0.        , 0.        , 0.        ],\n",
        "                                   [0.        , 0.37746975, 0.        , 0.79067681]])\n",
        "\n",
        "previous_grad = np.array([[0.22436157, 0.61897707, 0.67895832, 0.72428618],\n",
        "                          [0.71231319, 0.87345215, 0.91129578, 0.90625846]])\n",
        "\n",
        "correct_backward_result = np.array([[0.22436157, 0.        , 0.        , 0.        ],\n",
        "                                    [0.        , 0.87345215, 0.        , 0.90625846]])"
      ],
      "execution_count": 30,
      "outputs": []
    },
    {
      "cell_type": "code",
      "metadata": {
        "id": "ziffyWXhq4Pc"
      },
      "source": [
        "relu = ReLU()"
      ],
      "execution_count": 31,
      "outputs": []
    },
    {
      "cell_type": "code",
      "metadata": {
        "id": "2t5v_Tmpq4Pc"
      },
      "source": [
        "forward = relu.forward(x)\n",
        "backward = relu.backward(previous_grad)"
      ],
      "execution_count": 32,
      "outputs": []
    },
    {
      "cell_type": "code",
      "metadata": {
        "id": "KO5y7xcSq4Pc"
      },
      "source": [
        "#значения должны быть близкими\n",
        "assert np.allclose(correct_forward_result, forward)"
      ],
      "execution_count": 33,
      "outputs": []
    },
    {
      "cell_type": "code",
      "metadata": {
        "id": "LYhEGchfq4Pc"
      },
      "source": [
        "# значения должны быть близкими\n",
        "assert np.allclose(correct_backward_result, backward)"
      ],
      "execution_count": 34,
      "outputs": []
    },
    {
      "cell_type": "markdown",
      "metadata": {
        "id": "9ePyuzRiq4Pc"
      },
      "source": [
        "# BCE test"
      ]
    },
    {
      "cell_type": "markdown",
      "metadata": {
        "id": "yTU0MGIRq4Pd"
      },
      "source": [
        "### Не забудьте добавить np.expand_dims(y, 1) в forward"
      ]
    },
    {
      "cell_type": "code",
      "metadata": {
        "id": "wcU0nAn9q4Pd"
      },
      "source": [
        "class BCELoss:\n",
        "    def __init__(self):\n",
        "        self._x = None\n",
        "        self._y = None\n",
        "\n",
        "    def forward(self, x, y):\n",
        "        y = np.expand_dims(y, 1)\n",
        "        self._x = x\n",
        "        self._y = y\n",
        "        return - np.mean(np.log(x) * y + np.log(1 - x) * (1 - y))\n",
        "\n",
        "    def backward(self):\n",
        "        return (self._x - self._y) / (self._x - self._x * self._x) / self._x.shape[0]\n",
        "\n",
        "    def step(self, learning_rate):\n",
        "        pass"
      ],
      "execution_count": 35,
      "outputs": []
    },
    {
      "cell_type": "markdown",
      "metadata": {
        "id": "hdXUW9BZq4Pd"
      },
      "source": [
        "# Тестирование"
      ]
    },
    {
      "cell_type": "code",
      "metadata": {
        "id": "zb-wEIQ5q4Pd"
      },
      "source": [
        "x = np.array([[0.76242307],\n",
        "              [0.0908412 ],\n",
        "              [0.60176646],\n",
        "              [0.09606798]])\n",
        "\n",
        "y = np.array([1, 0, 1, 0])\n",
        "\n",
        "correct_forward_result = 0.24384403491500606\n",
        "\n",
        "correct_backward_result = np.array([[-0.32790194],\n",
        "                                    [ 0.27497946],\n",
        "                                    [-0.41544356],\n",
        "                                    [ 0.27656947]])"
      ],
      "execution_count": 36,
      "outputs": []
    },
    {
      "cell_type": "code",
      "metadata": {
        "id": "JO22ftk0q4Pd"
      },
      "source": [
        "loss = BCELoss()"
      ],
      "execution_count": 37,
      "outputs": []
    },
    {
      "cell_type": "code",
      "metadata": {
        "id": "aB7K5cufq4Pd"
      },
      "source": [
        "forward = loss.forward(x, y)\n",
        "backward = loss.backward()"
      ],
      "execution_count": 38,
      "outputs": []
    },
    {
      "cell_type": "code",
      "metadata": {
        "id": "BoJaPxOfq4Pe"
      },
      "source": [
        "# значения должны быть близкими\n",
        "assert np.allclose(correct_forward_result, forward)"
      ],
      "execution_count": 39,
      "outputs": []
    },
    {
      "cell_type": "code",
      "metadata": {
        "id": "akDW9A15q4Pe"
      },
      "source": [
        "# значения должны быть близкими\n",
        "assert np.allclose(correct_backward_result, backward)"
      ],
      "execution_count": 40,
      "outputs": []
    },
    {
      "cell_type": "markdown",
      "metadata": {
        "id": "WzNw_nvnq4Pe"
      },
      "source": [
        "## Реализуйте обертку над слоями - нейронную сеть\n",
        "- TIP 1: modules - это список слоев, которые вы сделали выше. Порядок важен\n",
        "- TIP 2: обновление весов можно сделать циклом\n",
        "- TIP 3: forward идет в одну сторону по слоям, а backward в другую\n",
        "- TIP 4: В backward функции потерь мы не передаем предыдущий градиент, потому что это начало backward, то есть последний слой нашей сети\n",
        "- TIP 5: forward и backward ничего не должны отдавать, в них должны быть расчитаны градиенты для каждого слоя\n",
        "- TIP 6: в step нужно пройтись по всем слоям и обновить веса"
      ]
    },
    {
      "cell_type": "code",
      "metadata": {
        "id": "y58Ek_0Iq4Pe"
      },
      "source": [
        "class NeuralNetwork:\n",
        "\n",
        "    def __init__(self, modules):\n",
        "\n",
        "        # список слоев\n",
        "        self.modules = modules\n",
        "\n",
        "    def forward(self, x):\n",
        "        for layer in self.modules:\n",
        "            x = layer.forward(x)\n",
        "        return x\n",
        "\n",
        "    def backward(self, grad):\n",
        "        \"\"\"\n",
        "        :grad: градиент от функции потерь\n",
        "        :return: возвращать ничего не потребуется\n",
        "        \"\"\"\n",
        "        for layer in self.modules[::-1]:\n",
        "            grad = layer.backward(grad)\n",
        "\n",
        "    def step(self, learning_rate):\n",
        "        for layer in self.modules:\n",
        "            layer.step(learning_rate)"
      ],
      "execution_count": 41,
      "outputs": []
    },
    {
      "cell_type": "markdown",
      "metadata": {
        "id": "XHrEn8Q_q4Pe"
      },
      "source": [
        "## Реализуйте обертку над моделью"
      ]
    },
    {
      "cell_type": "code",
      "metadata": {
        "id": "J4Jmc0rmq4Pe"
      },
      "source": [
        "class MNISTWrapper(wrapper.Wrapper):\n",
        "\n",
        "    def train_batch(self, x, y):\n",
        "        \"\"\"\n",
        "        Нужно реализовать одну итерацию обучения модели:\n",
        "        1. Рассчет forward\n",
        "        2. Рассчет функции потерь\n",
        "        3. Рассчет backward от функции потерь\n",
        "        4. Рассчет backward по модели, передавая туда значение градиента по функции потерь\n",
        "        5. Обновление весов с помощью step\n",
        "        :param x: входные данные np.array with shape (batch_size, n_features)\n",
        "        :param y: предсказания np.array with shape (batch_size, n_classes)\n",
        "        :return:\n",
        "        loss_batch - значение функции потерь, просто скаляр\n",
        "        prediction - матрица предсказаний вашей модели\n",
        "\n",
        "        напомню важные штуки, которые знает наш класс:\n",
        "        self.model\n",
        "        self.loss\n",
        "        self.learning_rate\n",
        "        \"\"\"\n",
        "        # КОД ЗДЕСЬ\n",
        "        x = x.view(x.shape[0], -1).numpy()\n",
        "        y = y.numpy()\n",
        "        prediction = self.model.forward(x)\n",
        "        loss_batch = self.loss.forward(x, y)\n",
        "        loss_grad = self.loss.backward()\n",
        "        self.model.backward(loss_grad)\n",
        "        self.model.step(self.learning_rate)\n",
        "        return loss_batch, prediction"
      ],
      "execution_count": 51,
      "outputs": []
    },
    {
      "cell_type": "code",
      "metadata": {
        "id": "adyqK6dNq4Pf"
      },
      "source": [
        "# задайте гиперпараметры\n",
        "learning_rate = 0.01\n",
        "epochs = 12\n",
        "\n",
        "# задайте слои в свою нейронную сеть, например, 3 слоя\n",
        "neural_network = NeuralNetwork([\n",
        "    Linear(784, 512),\n",
        "    ReLU(),\n",
        "    Linear(512, 256),\n",
        "    ReLU(),\n",
        "    Linear(256, 1)                                       \n",
        "])\n",
        "\n",
        "loss = BCELoss()"
      ],
      "execution_count": 44,
      "outputs": []
    },
    {
      "cell_type": "code",
      "metadata": {
        "id": "shqQnbOYq4Pf"
      },
      "source": [
        "classifier = MNISTWrapper(model=neural_network,\n",
        "                          loss=loss,\n",
        "                          learning_rate=learning_rate)"
      ],
      "execution_count": null,
      "outputs": []
    },
    {
      "cell_type": "markdown",
      "metadata": {
        "id": "GIHbpTovq4Pf"
      },
      "source": [
        "## Обучение модели"
      ]
    },
    {
      "cell_type": "code",
      "metadata": {
        "id": "EPXmk9dcq4Pg"
      },
      "source": [
        "classifier.train(train_loader, test_loader, epochs=epochs)"
      ],
      "execution_count": null,
      "outputs": []
    },
    {
      "cell_type": "code",
      "metadata": {
        "id": "p6dVWLAtq4Pg"
      },
      "source": [
        "classifier.plot()"
      ],
      "execution_count": null,
      "outputs": []
    },
    {
      "cell_type": "code",
      "metadata": {
        "id": "VHarORRpq4Pg"
      },
      "source": [
        ""
      ],
      "execution_count": null,
      "outputs": []
    }
  ]
}